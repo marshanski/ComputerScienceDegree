{
 "cells": [
  {
   "attachments": {},
   "cell_type": "markdown",
   "metadata": {},
   "source": [
    "Imports"
   ]
  },
  {
   "cell_type": "code",
   "execution_count": 1,
   "metadata": {},
   "outputs": [],
   "source": [
    "import numpy as np"
   ]
  },
  {
   "attachments": {},
   "cell_type": "markdown",
   "metadata": {},
   "source": [
    "Question 1:\n",
    "For the matrix A Find a vector x that maximizes\n",
    "\\begin{gather*}\n",
    "    A = \\left[\\begin{array}{cccc}\n",
    "    1 & 2 & 3 & 4\\\\\n",
    "    2 & 4 & -4 & 8\\\\\n",
    "    -5 & 4 & 1 & 5\\\\\n",
    "    5 & 0 & -3 & -7\n",
    "    \\end{array}\\right]\n",
    "\\end{gather*}\n",
    "\n",
    "\n"
   ]
  },
  {
   "attachments": {},
   "cell_type": "markdown",
   "metadata": {},
   "source": [
    "1A:\n",
    "\\begin{gather*}\n",
    "    \\left\\Vert A\\right\\Vert _{1}= max_{x}\\frac{\\left\\Vert Ax\\right\\Vert _{1}}{\\left\\Vert x\\right\\Vert _{1}} = max_{j}(\\mathop{\\sum_{i=1}^{m}|a_{ij}|})\n",
    "\\end{gather*}"
   ]
  },
  {
   "cell_type": "code",
   "execution_count": 1,
   "metadata": {},
   "outputs": [
    {
     "name": "stdout",
     "output_type": "stream",
     "text": [
      "hello \n"
     ]
    }
   ],
   "source": []
  },
  {
   "attachments": {},
   "cell_type": "markdown",
   "metadata": {},
   "source": [
    "Question 1a:\n",
    " \n",
    "Find a vector x that maximizes \n",
    "\\begin{gather*}\n",
    "    \\left\\Vert A\\right\\Vert _{\\infty}= max_{x}\\frac{\\left\\Vert Ax\\right\\Vert _{\\infty}}{\\left\\Vert x\\right\\Vert _{\\infty}} = max_{i}(\\mathop{\\sum_{j=1}^{n}|a_{ij}|})\n",
    "\\end{gather*}"
   ]
  },
  {
   "cell_type": "code",
   "execution_count": 3,
   "metadata": {},
   "outputs": [
    {
     "name": "stdout",
     "output_type": "stream",
     "text": [
      "hello \n"
     ]
    }
   ],
   "source": []
  },
  {
   "attachments": {},
   "cell_type": "markdown",
   "metadata": {},
   "source": [
    "Question 1b:\n",
    " \n",
    "Find a vector x that maximizes \n",
    "\\begin{gather*}\n",
    "    \\left\\Vert A\\right\\Vert _{2}= max_{x}\\frac{\\left\\Vert Ax\\right\\Vert _{2}}{\\left\\Vert x\\right\\Vert _{2}} = \\sigma_{max}\n",
    "\\end{gather*}"
   ]
  },
  {
   "cell_type": "code",
   "execution_count": 4,
   "metadata": {},
   "outputs": [
    {
     "name": "stdout",
     "output_type": "stream",
     "text": [
      "hello \n"
     ]
    }
   ],
   "source": []
  },
  {
   "attachments": {},
   "cell_type": "markdown",
   "metadata": {},
   "source": [
    "Question 4: Least Squares\n",
    "\n",
    "4A: Upper triangular linear systems"
   ]
  },
  {
   "cell_type": "code",
   "execution_count": 5,
   "metadata": {},
   "outputs": [
    {
     "name": "stdout",
     "output_type": "stream",
     "text": [
      "hello \n"
     ]
    }
   ],
   "source": []
  },
  {
   "attachments": {},
   "cell_type": "markdown",
   "metadata": {},
   "source": [
    "4A: Lower triangular linear systems"
   ]
  },
  {
   "cell_type": "code",
   "execution_count": 6,
   "metadata": {},
   "outputs": [
    {
     "name": "stdout",
     "output_type": "stream",
     "text": [
      "hello \n"
     ]
    }
   ],
   "source": []
  },
  {
   "attachments": {},
   "cell_type": "markdown",
   "metadata": {},
   "source": [
    "4B:\n",
    "\n",
    "Find the best approximation in a least square sense for satisfying the linear system\n",
    "Ax = b where\n",
    "\\begin{gather*}\n",
    "    A = \\left[\\begin{array}{ccc}\n",
    "    2 & 1 & 2\\\\\n",
    "    1 & -2 & 1\\\\\n",
    "    1 & 2 & 3\\\\\n",
    "    1 & 1 & 1\n",
    "    \\end{array}\\right] , b = \\left[\\begin{array}{c}\n",
    "    6\\\\\n",
    "    1\\\\\n",
    "    5\\\\\n",
    "    2\n",
    "    \\end{array}\\right]\n",
    "\\end{gather*}"
   ]
  },
  {
   "cell_type": "code",
   "execution_count": 7,
   "metadata": {},
   "outputs": [
    {
     "name": "stdout",
     "output_type": "stream",
     "text": [
      "hello \n"
     ]
    }
   ],
   "source": []
  },
  {
   "attachments": {},
   "cell_type": "markdown",
   "metadata": {},
   "source": [
    "4C: QR factorization"
   ]
  },
  {
   "cell_type": "code",
   "execution_count": 8,
   "metadata": {},
   "outputs": [
    {
     "name": "stdout",
     "output_type": "stream",
     "text": [
      "hello \n"
     ]
    }
   ],
   "source": []
  },
  {
   "attachments": {},
   "cell_type": "markdown",
   "metadata": {},
   "source": [
    "4C: SVD factorization"
   ]
  },
  {
   "cell_type": "code",
   "execution_count": 9,
   "metadata": {},
   "outputs": [
    {
     "name": "stdout",
     "output_type": "stream",
     "text": [
      "hello \n"
     ]
    }
   ],
   "source": []
  },
  {
   "attachments": {},
   "cell_type": "markdown",
   "metadata": {},
   "source": [
    "4D: Compute the residual of the least squares system r = Ax − b,"
   ]
  },
  {
   "cell_type": "code",
   "execution_count": 10,
   "metadata": {},
   "outputs": [
    {
     "name": "stdout",
     "output_type": "stream",
     "text": [
      "hello \n"
     ]
    }
   ],
   "source": []
  },
  {
   "attachments": {},
   "cell_type": "markdown",
   "metadata": {},
   "source": [
    "4E:"
   ]
  },
  {
   "cell_type": "code",
   "execution_count": 11,
   "metadata": {},
   "outputs": [
    {
     "name": "stdout",
     "output_type": "stream",
     "text": [
      "hello \n"
     ]
    }
   ],
   "source": []
  },
  {
   "attachments": {},
   "cell_type": "markdown",
   "metadata": {},
   "source": [
    "5. QR factorization\n",
    "\n",
    "5.A Gram Schmidt"
   ]
  },
  {
   "cell_type": "code",
   "execution_count": 28,
   "metadata": {},
   "outputs": [],
   "source": [
    "'''\n",
    "Description: The algorithem get a matrix A and retuen the QR Facrotization using Gram Schmidt Algorithem\n",
    "'''\n",
    "def GramSchmidtQR(A):\n",
    "    m , n  = A.shape\n",
    "    R      = np.zeros((n,n))\n",
    "    Q      = np.zeros((m,n))\n",
    "    R[0,0] = np.linalg.norm(A[:,0])\n",
    "    Q[:,0] = A[:,0] / R[0,0]\n",
    "    for i in range(1,n):\n",
    "        Q[:,i] = A[:,i]\n",
    "        for j in range(i):\n",
    "            R[j,i] = Q[:,j].transpose() @ A[:,i]\n",
    "            Q[:,i] = Q[:,i] - R[j,i]*Q[:,j]\n",
    "        R[i,i] = np.linalg.norm(Q[:,i])\n",
    "        Q[:,i] = Q[:,i] / R[i,i]\n",
    "        \n",
    "    return Q,R\n"
   ]
  },
  {
   "attachments": {},
   "cell_type": "markdown",
   "metadata": {},
   "source": [
    "5.A: Modified Gram Schmidt"
   ]
  },
  {
   "cell_type": "code",
   "execution_count": 29,
   "metadata": {},
   "outputs": [],
   "source": [
    "'''\n",
    "Description: The algorithem get a matrix A and retuen the QR Facrotization using modified Gram Schmidt Algorithem\n",
    "'''\n",
    "def ModifiedGramSchmidtQR(A):\n",
    "    m , n  = A.shape\n",
    "    R      = np.zeros((n,n))\n",
    "    Q      = np.zeros((m,n))\n",
    "    R[0,0] = np.linalg.norm(A[:,0])\n",
    "    Q[:,0] = A[:,0] / R[0,0]\n",
    "    for i in range(1,n):\n",
    "        Q[:,i] = A[:,i]\n",
    "        for j in range(i):\n",
    "            R[j,i] = Q[:,j].transpose() @ Q[:,i]\n",
    "            Q[:,i] = Q[:,i] - R[j,i]*Q[:,j]\n",
    "        R[i,i] = np.linalg.norm(Q[:,i])\n",
    "        Q[:,i] = Q[:,i] / R[i,i]\n",
    "        \n",
    "    return Q,R"
   ]
  },
  {
   "attachments": {},
   "cell_type": "markdown",
   "metadata": {},
   "source": [
    "5.B: find the QR factorization of the matrix\n",
    "\\begin{gather*}\n",
    "    A = \\left[\\begin{array}{ccc}\n",
    "    1 & 1 & 1\\\\\n",
    "    \\epsilon & 0 & 0\\\\\n",
    "    0 & \\epsilon & 0\\\\\n",
    "    0 & 0 & \\epsilon\n",
    "    \\end{array}\\right] \n",
    "\\end{gather*}\n",
    "\n",
    "\\begin{gather*}\n",
    "    for : \\epsilon = 1, \\epsilon =1e-10\n",
    "\\end{gather*}"
   ]
  },
  {
   "cell_type": "code",
   "execution_count": 41,
   "metadata": {},
   "outputs": [],
   "source": [
    "'''\n",
    "Description: The procedure return the matrix A with the asked epsilon\n",
    "'''\n",
    "def createAMAtrix(epsilon):\n",
    "    return np.array([[1,1,1],[epsilon,0,0],[0,epsilon,0],[0,0,epsilon]])\n",
    "\n",
    "def QrToString(epsilon):\n",
    "    A   = createAMAtrix(epsilon)\n",
    "    Q,R = GramSchmidtQR(A)\n",
    "    print(\"Q\\n\",Q,\"\\nR\\n\",R)\n",
    "    print(\"\\nModified\")\n",
    "    Q, r = ModifiedGramSchmidtQR(A)\n",
    "    print(\"Q\\n\",Q,\"\\nR\\n\",R)\n"
   ]
  },
  {
   "attachments": {},
   "cell_type": "markdown",
   "metadata": {},
   "source": [
    "\\begin{gather*}\n",
    "    for : \\epsilon = 1\n",
    "\\end{gather*}"
   ]
  },
  {
   "cell_type": "code",
   "execution_count": 42,
   "metadata": {},
   "outputs": [
    {
     "name": "stdout",
     "output_type": "stream",
     "text": [
      "Q\n",
      " [[ 0.70710678  0.40824829  0.28867513]\n",
      " [ 0.70710678 -0.40824829 -0.28867513]\n",
      " [ 0.          0.81649658 -0.28867513]\n",
      " [ 0.          0.          0.8660254 ]] \n",
      "R\n",
      " [[1.41421356 0.70710678 0.70710678]\n",
      " [0.         1.22474487 0.40824829]\n",
      " [0.         0.         1.15470054]]\n",
      "\n",
      "Modified\n",
      "Q\n",
      " [[ 0.70710678  0.40824829  0.28867513]\n",
      " [ 0.70710678 -0.40824829 -0.28867513]\n",
      " [ 0.          0.81649658 -0.28867513]\n",
      " [ 0.          0.          0.8660254 ]] \n",
      "R\n",
      " [[1.41421356 0.70710678 0.70710678]\n",
      " [0.         1.22474487 0.40824829]\n",
      " [0.         0.         1.15470054]]\n"
     ]
    }
   ],
   "source": [
    "QrToString(1)"
   ]
  },
  {
   "attachments": {},
   "cell_type": "markdown",
   "metadata": {},
   "source": [
    "\\begin{gather*}\n",
    "    for : \\epsilon =1e-10\n",
    "\\end{gather*}"
   ]
  },
  {
   "cell_type": "code",
   "execution_count": 43,
   "metadata": {},
   "outputs": [
    {
     "name": "stdout",
     "output_type": "stream",
     "text": [
      "Q\n",
      " [[ 1.00000000e+00  0.00000000e+00  0.00000000e+00]\n",
      " [ 1.00000000e-10 -7.07106781e-01 -7.07106781e-01]\n",
      " [ 0.00000000e+00  7.07106781e-01  0.00000000e+00]\n",
      " [ 0.00000000e+00  0.00000000e+00  7.07106781e-01]] \n",
      "R\n",
      " [[1.00000000e+00 1.00000000e+00 1.00000000e+00]\n",
      " [0.00000000e+00 1.41421356e-10 0.00000000e+00]\n",
      " [0.00000000e+00 0.00000000e+00 1.41421356e-10]]\n",
      "\n",
      "Modified\n",
      "Q\n",
      " [[ 1.00000000e+00  0.00000000e+00  0.00000000e+00]\n",
      " [ 1.00000000e-10 -7.07106781e-01 -4.08248290e-01]\n",
      " [ 0.00000000e+00  7.07106781e-01 -4.08248290e-01]\n",
      " [ 0.00000000e+00  0.00000000e+00  8.16496581e-01]] \n",
      "R\n",
      " [[1.00000000e+00 1.00000000e+00 1.00000000e+00]\n",
      " [0.00000000e+00 1.41421356e-10 0.00000000e+00]\n",
      " [0.00000000e+00 0.00000000e+00 1.41421356e-10]]\n"
     ]
    }
   ],
   "source": [
    "QrToString(1e-10)"
   ]
  },
  {
   "attachments": {},
   "cell_type": "markdown",
   "metadata": {},
   "source": [
    "5.C For all factorizations, calculate\n",
    "\\begin{gather*}\n",
    "    \\left\\Vert Q^{T}Q-I\\right\\Vert _{F}\n",
    "\\end{gather*}\n"
   ]
  },
  {
   "cell_type": "code",
   "execution_count": 44,
   "metadata": {},
   "outputs": [],
   "source": [
    "def ForNormToString(epsilon):\n",
    "    A   = createAMAtrix(epsilon)\n",
    "    Q,R = GramSchmidtQR(A)\n",
    "    forbinus_norm = np.linalg.norm(Q.T @ Q - np.eye(Q.shape[1]),'fro')\n",
    "    print(\"\\n||Q^TQ - I || F = \" ,forbinus_norm)\n",
    "    print(\"\\nModified\")\n",
    "    Q, r = ModifiedGramSchmidtQR(A)\n",
    "    forbinus_norm = np.linalg.norm(Q.T @ Q - np.eye(Q.shape[1]),'fro')\n",
    "    print(\"\\n||Q^TQ - I || F = \" ,forbinus_norm)"
   ]
  },
  {
   "attachments": {},
   "cell_type": "markdown",
   "metadata": {},
   "source": [
    "\\begin{gather*}\n",
    "    for : \\epsilon = 1\n",
    "\\end{gather*}"
   ]
  },
  {
   "cell_type": "code",
   "execution_count": 45,
   "metadata": {},
   "outputs": [
    {
     "name": "stdout",
     "output_type": "stream",
     "text": [
      "\n",
      "||Q^TQ - I || F =  5.319287782567757e-16\n",
      "\n",
      "Modified\n",
      "\n",
      "||Q^TQ - I || F =  4.987305196443834e-16\n"
     ]
    }
   ],
   "source": [
    "ForNormToString(1)"
   ]
  },
  {
   "attachments": {},
   "cell_type": "markdown",
   "metadata": {},
   "source": [
    "\\begin{gather*}\n",
    "    for : \\epsilon = 1e-10\n",
    "\\end{gather*}"
   ]
  },
  {
   "cell_type": "code",
   "execution_count": 46,
   "metadata": {},
   "outputs": [
    {
     "name": "stdout",
     "output_type": "stream",
     "text": [
      "\n",
      "||Q^TQ - I || F =  0.7071067811865477\n",
      "\n",
      "Modified\n",
      "\n",
      "||Q^TQ - I || F =  1.1547005383855976e-10\n"
     ]
    }
   ],
   "source": [
    "ForNormToString(1e-10)"
   ]
  }
 ],
 "metadata": {
  "kernelspec": {
   "display_name": "obb",
   "language": "python",
   "name": "python3"
  },
  "language_info": {
   "codemirror_mode": {
    "name": "ipython",
    "version": 3
   },
   "file_extension": ".py",
   "mimetype": "text/x-python",
   "name": "python",
   "nbconvert_exporter": "python",
   "pygments_lexer": "ipython3",
   "version": "3.9.6 (default, Aug 18 2021, 15:44:49) [MSC v.1916 64 bit (AMD64)]"
  },
  "orig_nbformat": 4,
  "vscode": {
   "interpreter": {
    "hash": "76b555e287514ca6eb8c9637462a0856ff355b2c8907aff56896af046b71dfb9"
   }
  }
 },
 "nbformat": 4,
 "nbformat_minor": 2
}
