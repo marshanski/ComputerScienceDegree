{
  "cells": [
    {
      "cell_type": "markdown",
      "metadata": {
        "id": "zcpq_ShAmh_f"
      },
      "source": [
        "Imports"
      ]
    },
    {
      "cell_type": "code",
      "execution_count": 4,
      "metadata": {
        "id": "2JvOgUzPmh_h"
      },
      "outputs": [],
      "source": [
        "import numpy as np"
      ]
    },
    {
      "cell_type": "markdown",
      "metadata": {
        "id": "b6akwB4Nmh_i"
      },
      "source": [
        "Question 1:\n",
        "For the matrix A Find a vector x that maximizes\n",
        "\\begin{gather*}\n",
        "    A = \\left[\\begin{array}{cccc}\n",
        "    1 & 2 & 3 & 4\\\\\n",
        "    2 & 4 & -4 & 8\\\\\n",
        "    -5 & 4 & 1 & 5\\\\\n",
        "    5 & 0 & -3 & -7\n",
        "    \\end{array}\\right]\n",
        "\\end{gather*}\n",
        "\n",
        "\n"
      ]
    },
    {
      "cell_type": "markdown",
      "metadata": {
        "id": "RwjsxYmHmh_i"
      },
      "source": [
        "1A:\n",
        "\\begin{gather*}\n",
        "    \\left\\Vert A\\right\\Vert _{1}= max_{x}\\frac{\\left\\Vert Ax\\right\\Vert _{1}}{\\left\\Vert x\\right\\Vert _{1}} = max_{j}(\\mathop{\\sum_{i=1}^{m}|a_{ij}|})\n",
        "\\end{gather*}"
      ]
    },
    {
      "cell_type": "code",
      "execution_count": 5,
      "metadata": {
        "colab": {
          "base_uri": "https://localhost:8080/"
        },
        "id": "PfqecZI4mh_j",
        "outputId": "6ce90ed8-f3a2-4989-faa1-4d213b1cfd41"
      },
      "outputs": [
        {
          "output_type": "execute_result",
          "data": {
            "text/plain": [
              "[0, 0, 0, 1]"
            ]
          },
          "metadata": {},
          "execution_count": 5
        }
      ],
      "source": [
        "x = [0,0,0,1]\n",
        "x"
      ]
    },
    {
      "cell_type": "markdown",
      "metadata": {
        "id": "YKUgleaSmh_j"
      },
      "source": [
        "Question 1a:\n",
        " \n",
        "Find a vector x that maximizes \n",
        "\\begin{gather*}\n",
        "    \\left\\Vert A\\right\\Vert _{\\infty}= max_{x}\\frac{\\left\\Vert Ax\\right\\Vert _{\\infty}}{\\left\\Vert x\\right\\Vert _{\\infty}} = max_{i}(\\mathop{\\sum_{j=1}^{n}|a_{ij}|})\n",
        "\\end{gather*}"
      ]
    },
    {
      "cell_type": "code",
      "execution_count": 6,
      "metadata": {
        "colab": {
          "base_uri": "https://localhost:8080/"
        },
        "id": "zLbk8B8smh_k",
        "outputId": "7193a620-e692-478c-bf41-290e14f67694"
      },
      "outputs": [
        {
          "output_type": "execute_result",
          "data": {
            "text/plain": [
              "[1, 1, -1, 1]"
            ]
          },
          "metadata": {},
          "execution_count": 6
        }
      ],
      "source": [
        "x = [1,1,-1,1]\n",
        "x"
      ]
    },
    {
      "cell_type": "markdown",
      "metadata": {
        "id": "Zu7IcToxmh_k"
      },
      "source": [
        "Question 1b:\n",
        " \n",
        "Find a vector x that maximizes \n",
        "\\begin{gather*}\n",
        "    \\left\\Vert A\\right\\Vert _{2}= max_{x}\\frac{\\left\\Vert Ax\\right\\Vert _{2}}{\\left\\Vert x\\right\\Vert _{2}} = \\sigma_{max}\n",
        "\\end{gather*}"
      ]
    },
    {
      "cell_type": "code",
      "execution_count": 7,
      "metadata": {
        "colab": {
          "base_uri": "https://localhost:8080/"
        },
        "id": "i2U5yDczmh_k",
        "outputId": "6a83a2d3-8af4-4c97-8489-552cd2af92aa"
      },
      "outputs": [
        {
          "output_type": "stream",
          "name": "stdout",
          "text": [
            "13.858100376465329\n",
            "[-0.29618621  0.35616716  0.06730298  0.88367923]\n",
            "13.858100376465327\n"
          ]
        }
      ],
      "source": [
        "A = np.array([[1, 2, 3, 4],\n",
        "                  [2, 4, -4, 8],\n",
        "                  [-5, 4, 1, 5],\n",
        "                  [5, 0, -3, -7]])\n",
        "U, sigma, V_T = np.linalg.svd(A)\n",
        "print(np.max(sigma))\n",
        "e_vector = V_T[np.argmax(sigma)]\n",
        "print(e_vector)\n",
        "x = np.linalg.norm(A @ e_vector)\n",
        "print(x)"
      ]
    },
    {
      "cell_type": "markdown",
      "metadata": {
        "id": "6FVS6gFRmh_k"
      },
      "source": [
        "Question 4: Least Squares\n",
        "\n",
        "4A: Upper triangular linear systems"
      ]
    },
    {
      "cell_type": "code",
      "execution_count": 8,
      "metadata": {
        "id": "VQoBz-qNmh_k"
      },
      "outputs": [],
      "source": [
        "def BwdSub(U, b):\n",
        "    n = len(b)\n",
        "    x = np.zeros(n)\n",
        "    for i in reversed(range(0, n)):\n",
        "        b_temp = b[i]\n",
        "        for j in reversed(range(i, n)):\n",
        "            b_temp -= U[i][j] * x[j]\n",
        "        x[i] = b_temp / U[i][i]\n",
        "    print(f\"BwdSub: {x}\")\n",
        "    return x"
      ]
    },
    {
      "cell_type": "markdown",
      "metadata": {
        "id": "9H3E0zromh_k"
      },
      "source": [
        "4A: Lower triangular linear systems"
      ]
    },
    {
      "cell_type": "code",
      "execution_count": 9,
      "metadata": {
        "id": "3sCuMfesmh_l"
      },
      "outputs": [],
      "source": [
        "def FwdSub(L, b):\n",
        "    n = len(b)\n",
        "    x = np.zeros(n)\n",
        "    for i in range(0, n):\n",
        "        b_temp = b[i]\n",
        "        for j in range(0, i):\n",
        "            b_temp -= L[i][j] * x[j]\n",
        "        x[i] = b_temp / L[i][i]\n",
        "    print(f\"FwdSub: {x}\")\n",
        "    return x\n"
      ]
    },
    {
      "cell_type": "markdown",
      "metadata": {
        "id": "vcklxfHLmh_l"
      },
      "source": [
        "4B:\n",
        "\n",
        "Find the best approximation in a least square sense for satisfying the linear system\n",
        "Ax = b where\n",
        "\\begin{gather*}\n",
        "    A = \\left[\\begin{array}{ccc}\n",
        "    2 & 1 & 2\\\\\n",
        "    1 & -2 & 1\\\\\n",
        "    1 & 2 & 3\\\\\n",
        "    1 & 1 & 1\n",
        "    \\end{array}\\right] , b = \\left[\\begin{array}{c}\n",
        "    6\\\\\n",
        "    1\\\\\n",
        "    5\\\\\n",
        "    2\n",
        "    \\end{array}\\right]\n",
        "\\end{gather*}"
      ]
    },
    {
      "cell_type": "code",
      "execution_count": 27,
      "metadata": {
        "id": "RKo-IvNBmh_l",
        "outputId": "cc0d2442-ff55-4eae-cedc-f49721cf8c80",
        "colab": {
          "base_uri": "https://localhost:8080/"
        }
      },
      "outputs": [
        {
          "output_type": "stream",
          "name": "stdout",
          "text": [
            "FwdSub: [7.55928946 2.51645638 1.06046696]\n",
            "BwdSub: [1.7 0.6 0.7]\n",
            "x_opt: [1.7 0.6 0.7]\n"
          ]
        }
      ],
      "source": [
        "A = np.array([[2, 1, 2],\n",
        "                  [1, -2, 1],\n",
        "                  [1, 2, 3],\n",
        "                  [1, 1, 1]])\n",
        "b = np.array([6, 1, 5, 2])\n",
        "\n",
        "L = np.linalg.cholesky(A.T @ A)\n",
        "y = FwdSub(L, A.T @ b)\n",
        "x_4a = BwdSub(L.T, y)\n",
        "print(f\"x_opt: {x_4a}\")"
      ]
    },
    {
      "cell_type": "markdown",
      "metadata": {
        "id": "XfQTnJf2mh_l"
      },
      "source": [
        "4C: QR factorization"
      ]
    },
    {
      "cell_type": "code",
      "execution_count": 30,
      "metadata": {
        "id": "SGansPdKmh_l",
        "outputId": "8b538bdc-d529-49f6-9671-2d0e97556bd7",
        "colab": {
          "base_uri": "https://localhost:8080/"
        }
      },
      "outputs": [
        {
          "output_type": "stream",
          "name": "stdout",
          "text": [
            "BwdSub: [1.7 0.6 0.7]\n",
            "x_opt: [1.7 0.6 0.7]\n"
          ]
        }
      ],
      "source": [
        "A = np.array([[2, 1, 2],\n",
        "              [1, -2, 1],\n",
        "              [1, 2, 3],\n",
        "              [1, 1, 1]])\n",
        "b = np.array([6, 1, 5, 2])\n",
        "Q, R = np.linalg.qr(A)\n",
        "v = Q.T @ b\n",
        "x_qr = BwdSub(R, v)\n",
        "print(f\"x_opt: {x_qr}\")"
      ]
    },
    {
      "cell_type": "markdown",
      "metadata": {
        "id": "y9kdMSM8mh_m"
      },
      "source": [
        "4C: SVD factorization"
      ]
    },
    {
      "cell_type": "code",
      "execution_count": 31,
      "metadata": {
        "id": "lruOa0mZmh_m",
        "outputId": "566ffebd-449f-4e25-bc40-3f3bba1bffc2",
        "colab": {
          "base_uri": "https://localhost:8080/"
        }
      },
      "outputs": [
        {
          "output_type": "stream",
          "name": "stdout",
          "text": [
            "BwdSub: [-1.59353004  0.38516653 -1.02582101]\n",
            "x_opt: [1.7 0.6 0.7]\n"
          ]
        }
      ],
      "source": [
        "A = np.array([[2, 1, 2],\n",
        "              [1, -2, 1],\n",
        "              [1, 2, 3],\n",
        "              [1, 1, 1]])\n",
        "b = np.array([6, 1, 5, 2])\n",
        "U, sigma, V_T = np.linalg.svd(A, full_matrices=False)\n",
        "y = BwdSub(np.diag(sigma), U.T @ b)\n",
        "x_svd = V_T.T @ y\n",
        "print(f\"x_opt: {x_svd}\")"
      ]
    },
    {
      "cell_type": "markdown",
      "metadata": {
        "id": "0P99hnuNmh_m"
      },
      "source": [
        "4D: Compute the residual of the least squares system r = Ax − b,"
      ]
    },
    {
      "cell_type": "code",
      "execution_count": 34,
      "metadata": {
        "id": "CC5Jb0gvmh_m",
        "outputId": "1a4efd04-0de3-4985-c89b-4eb619cddc6b",
        "colab": {
          "base_uri": "https://localhost:8080/"
        }
      },
      "outputs": [
        {
          "output_type": "execute_result",
          "data": {
            "text/plain": [
              "array([-6.00000000e-01,  2.00000000e-01,  1.77635684e-15,  1.00000000e+00])"
            ]
          },
          "metadata": {},
          "execution_count": 34
        }
      ],
      "source": [
        "r = A @ x_svd - b\n",
        "r"
      ]
    },
    {
      "cell_type": "markdown",
      "metadata": {
        "id": "PuQLd-EXmh_m"
      },
      "source": [
        "4E:"
      ]
    },
    {
      "cell_type": "code",
      "execution_count": 24,
      "metadata": {
        "id": "RQdCEGvZmh_n",
        "outputId": "57abffcc-5a45-452c-df94-8c7293e23a26",
        "colab": {
          "base_uri": "https://localhost:8080/"
        }
      },
      "outputs": [
        {
          "output_type": "stream",
          "name": "stdout",
          "text": [
            "r: [-6.00000000e-01  2.00000000e-01  1.77635684e-15  1.00000000e+00]\n",
            "W: [[808   0   0   0]\n",
            " [  0   1   0   0]\n",
            " [  0   0   1   0]\n",
            " [  0   0   0   1]]\n",
            "x_est: [2.1722891  0.69215397 0.48113432]\n",
            "Weights array: [808,1,1,1]\n"
          ]
        }
      ],
      "source": [
        "A = np.array([[2, 1, 2],\n",
        "                  [1, -2, 1],\n",
        "                  [1, 2, 3],\n",
        "                  [1, 1, 1]])\n",
        "b = np.array([6, 1, 5, 2])\n",
        "i = 1\n",
        "W = np.diag([1, 1, 1, 1])\n",
        "x_est = np.linalg.inv(A.T @ W @ A) @ A.T @ W @ b\n",
        "r = A @ x_est - b\n",
        "print(f\"r: {r}\")\n",
        "while np.abs(r[0]) >= 10 ** (-3):\n",
        "    i += 1\n",
        "    W = np.diag([i, 1, 1, 1])\n",
        "    x_est = np.linalg.inv(A.T @ W @ A) @ A.T @ W @ b\n",
        "    r = A @ x_est - b\n",
        "print(f\"W: {W}\")\n",
        "print(f\"x_est: {x_est}\")\n",
        "print(f\"Weights array: [{i},1,1,1]\")"
      ]
    },
    {
      "cell_type": "markdown",
      "metadata": {
        "id": "k4T6a1y5mh_n"
      },
      "source": [
        "5. QR factorization\n",
        "\n",
        "5.A Gram Schmidt"
      ]
    },
    {
      "cell_type": "code",
      "execution_count": 11,
      "metadata": {
        "id": "R3_F2pW4mh_n"
      },
      "outputs": [],
      "source": [
        "'''\n",
        "Description: The algorithem get a matrix A and retuen the QR Facrotization using Gram Schmidt Algorithem\n",
        "'''\n",
        "def GramSchmidtQR(A):\n",
        "    m , n  = A.shape\n",
        "    R      = np.zeros((n,n))\n",
        "    Q      = np.zeros((m,n))\n",
        "    R[0,0] = np.linalg.norm(A[:,0])\n",
        "    Q[:,0] = A[:,0] / R[0,0]\n",
        "    for i in range(1,n):\n",
        "        Q[:,i] = A[:,i]\n",
        "        for j in range(i):\n",
        "            R[j,i] = Q[:,j].transpose() @ A[:,i]\n",
        "            Q[:,i] = Q[:,i] - R[j,i]*Q[:,j]\n",
        "        R[i,i] = np.linalg.norm(Q[:,i])\n",
        "        Q[:,i] = Q[:,i] / R[i,i]\n",
        "        \n",
        "    return Q,R\n"
      ]
    },
    {
      "cell_type": "markdown",
      "metadata": {
        "id": "34dpFS-Wmh_n"
      },
      "source": [
        "5.A: Modified Gram Schmidt"
      ]
    },
    {
      "cell_type": "code",
      "execution_count": 12,
      "metadata": {
        "id": "5I53RQinmh_n"
      },
      "outputs": [],
      "source": [
        "'''\n",
        "Description: The algorithm recieves a matrix A and returns the QR Facrotization using modified Gram Schmidt Algorithem\n",
        "'''\n",
        "def ModifiedGramSchmidtQR(A):\n",
        "    m , n  = A.shape\n",
        "    R      = np.zeros((n,n))\n",
        "    Q      = np.zeros((m,n))\n",
        "    R[0,0] = np.linalg.norm(A[:,0])\n",
        "    Q[:,0] = A[:,0] / R[0,0]\n",
        "    for i in range(1,n):\n",
        "        Q[:,i] = A[:,i]\n",
        "        for j in range(i):\n",
        "            R[j,i] = Q[:,j].transpose() @ Q[:,i]\n",
        "            Q[:,i] = Q[:,i] - R[j,i]*Q[:,j]\n",
        "        R[i,i] = np.linalg.norm(Q[:,i])\n",
        "        Q[:,i] = Q[:,i] / R[i,i]\n",
        "        \n",
        "    return Q,R"
      ]
    },
    {
      "cell_type": "markdown",
      "metadata": {
        "id": "WMTn9F_Umh_o"
      },
      "source": [
        "5.B: find the QR factorization of the matrix\n",
        "\\begin{gather*}\n",
        "    A = \\left[\\begin{array}{ccc}\n",
        "    1 & 1 & 1\\\\\n",
        "    \\epsilon & 0 & 0\\\\\n",
        "    0 & \\epsilon & 0\\\\\n",
        "    0 & 0 & \\epsilon\n",
        "    \\end{array}\\right] \n",
        "\\end{gather*}\n",
        "\n",
        "\\begin{gather*}\n",
        "    for : \\epsilon = 1, \\epsilon =1e-10\n",
        "\\end{gather*}"
      ]
    },
    {
      "cell_type": "code",
      "execution_count": 13,
      "metadata": {
        "id": "Ax05NOvvmh_o"
      },
      "outputs": [],
      "source": [
        "'''\n",
        "Description: The procedure returns the matrix A with the asked epsilon\n",
        "'''\n",
        "def createAMAtrix(epsilon):\n",
        "    return np.array([[1,1,1],[epsilon,0,0],[0,epsilon,0],[0,0,epsilon]])\n",
        "\n",
        "def QrToString(epsilon):\n",
        "    A   = createAMAtrix(epsilon)\n",
        "    Q,R = GramSchmidtQR(A)\n",
        "    print(\"Q:\\n\",Q,\"\\nR:\\n\",R)\n",
        "    print(\"\\nModified\")\n",
        "    Q, r = ModifiedGramSchmidtQR(A)\n",
        "    print(\"Q:\\n\",Q,\"\\nR:\\n\",R)\n"
      ]
    },
    {
      "cell_type": "markdown",
      "metadata": {
        "id": "MKKg2kW9mh_o"
      },
      "source": [
        "\\begin{gather*}\n",
        "    for : \\epsilon = 1\n",
        "\\end{gather*}"
      ]
    },
    {
      "cell_type": "code",
      "execution_count": 14,
      "metadata": {
        "id": "vdpPYKV_mh_o",
        "outputId": "0d3a8280-1ec0-436c-eac1-346861991ed5",
        "colab": {
          "base_uri": "https://localhost:8080/"
        }
      },
      "outputs": [
        {
          "output_type": "stream",
          "name": "stdout",
          "text": [
            "Q:\n",
            " [[ 0.70710678  0.40824829  0.28867513]\n",
            " [ 0.70710678 -0.40824829 -0.28867513]\n",
            " [ 0.          0.81649658 -0.28867513]\n",
            " [ 0.          0.          0.8660254 ]] \n",
            "R:\n",
            " [[1.41421356 0.70710678 0.70710678]\n",
            " [0.         1.22474487 0.40824829]\n",
            " [0.         0.         1.15470054]]\n",
            "\n",
            "Modified\n",
            "Q:\n",
            " [[ 0.70710678  0.40824829  0.28867513]\n",
            " [ 0.70710678 -0.40824829 -0.28867513]\n",
            " [ 0.          0.81649658 -0.28867513]\n",
            " [ 0.          0.          0.8660254 ]] \n",
            "R:\n",
            " [[1.41421356 0.70710678 0.70710678]\n",
            " [0.         1.22474487 0.40824829]\n",
            " [0.         0.         1.15470054]]\n"
          ]
        }
      ],
      "source": [
        "QrToString(1)"
      ]
    },
    {
      "cell_type": "markdown",
      "metadata": {
        "id": "8mplRjWgmh_o"
      },
      "source": [
        "\\begin{gather*}\n",
        "    for : \\epsilon =1e-10\n",
        "\\end{gather*}"
      ]
    },
    {
      "cell_type": "code",
      "execution_count": 15,
      "metadata": {
        "colab": {
          "base_uri": "https://localhost:8080/"
        },
        "id": "9yPoa6Sbmh_p",
        "outputId": "5fd1f837-f77c-4a21-d271-cb74de251da6"
      },
      "outputs": [
        {
          "output_type": "stream",
          "name": "stdout",
          "text": [
            "Q:\n",
            " [[ 1.00000000e+00  0.00000000e+00  0.00000000e+00]\n",
            " [ 1.00000000e-10 -7.07106781e-01 -7.07106781e-01]\n",
            " [ 0.00000000e+00  7.07106781e-01  0.00000000e+00]\n",
            " [ 0.00000000e+00  0.00000000e+00  7.07106781e-01]] \n",
            "R:\n",
            " [[1.00000000e+00 1.00000000e+00 1.00000000e+00]\n",
            " [0.00000000e+00 1.41421356e-10 0.00000000e+00]\n",
            " [0.00000000e+00 0.00000000e+00 1.41421356e-10]]\n",
            "\n",
            "Modified\n",
            "Q:\n",
            " [[ 1.00000000e+00  0.00000000e+00  0.00000000e+00]\n",
            " [ 1.00000000e-10 -7.07106781e-01 -4.08248290e-01]\n",
            " [ 0.00000000e+00  7.07106781e-01 -4.08248290e-01]\n",
            " [ 0.00000000e+00  0.00000000e+00  8.16496581e-01]] \n",
            "R:\n",
            " [[1.00000000e+00 1.00000000e+00 1.00000000e+00]\n",
            " [0.00000000e+00 1.41421356e-10 0.00000000e+00]\n",
            " [0.00000000e+00 0.00000000e+00 1.41421356e-10]]\n"
          ]
        }
      ],
      "source": [
        "QrToString(1e-10)"
      ]
    },
    {
      "cell_type": "markdown",
      "metadata": {
        "id": "6bk5T4INmh_p"
      },
      "source": [
        "5.C For all factorizations, calculate\n",
        "\\begin{gather*}\n",
        "    \\left\\Vert Q^{T}Q-I\\right\\Vert _{F}\n",
        "\\end{gather*}\n"
      ]
    },
    {
      "cell_type": "code",
      "execution_count": 16,
      "metadata": {
        "id": "eHfOHFxfmh_p"
      },
      "outputs": [],
      "source": [
        "def ForNormToString(epsilon):\n",
        "    A   = createAMAtrix(epsilon)\n",
        "    Q,R = GramSchmidtQR(A)\n",
        "    forbinus_norm = np.linalg.norm(Q.T @ Q - np.eye(Q.shape[1]),'fro')\n",
        "    print(\"\\n||Q^TQ - I || F = \" ,forbinus_norm)\n",
        "    print(\"\\nModified\")\n",
        "    Q, r = ModifiedGramSchmidtQR(A)\n",
        "    forbinus_norm = np.linalg.norm(Q.T @ Q - np.eye(Q.shape[1]),'fro')\n",
        "    print(\"\\n||Q^TQ - I || F = \" ,forbinus_norm)"
      ]
    },
    {
      "cell_type": "markdown",
      "metadata": {
        "id": "6vuSJfbUmh_p"
      },
      "source": [
        "\\begin{gather*}\n",
        "    for : \\epsilon = 1\n",
        "\\end{gather*}"
      ]
    },
    {
      "cell_type": "code",
      "execution_count": 17,
      "metadata": {
        "id": "5ywLfaIVmh_p",
        "outputId": "01b56bf7-d885-40aa-80a4-da06fe506423",
        "colab": {
          "base_uri": "https://localhost:8080/"
        }
      },
      "outputs": [
        {
          "output_type": "stream",
          "name": "stdout",
          "text": [
            "\n",
            "||Q^TQ - I || F =  5.319287782567757e-16\n",
            "\n",
            "Modified\n",
            "\n",
            "||Q^TQ - I || F =  4.987305196443834e-16\n"
          ]
        }
      ],
      "source": [
        "ForNormToString(1)"
      ]
    },
    {
      "cell_type": "markdown",
      "metadata": {
        "id": "r58C6i4gmh_q"
      },
      "source": [
        "\\begin{gather*}\n",
        "    for : \\epsilon = 1e-10\n",
        "\\end{gather*}"
      ]
    },
    {
      "cell_type": "code",
      "execution_count": 18,
      "metadata": {
        "id": "br0SfIpnmh_q",
        "outputId": "af8f4903-9d6e-47fb-b14b-1a3dd57029cd",
        "colab": {
          "base_uri": "https://localhost:8080/"
        }
      },
      "outputs": [
        {
          "output_type": "stream",
          "name": "stdout",
          "text": [
            "\n",
            "||Q^TQ - I || F =  0.7071067811865477\n",
            "\n",
            "Modified\n",
            "\n",
            "||Q^TQ - I || F =  1.1547005383855976e-10\n"
          ]
        }
      ],
      "source": [
        "ForNormToString(1e-10)"
      ]
    }
  ],
  "metadata": {
    "kernelspec": {
      "display_name": "obb",
      "language": "python",
      "name": "python3"
    },
    "language_info": {
      "codemirror_mode": {
        "name": "ipython",
        "version": 3
      },
      "file_extension": ".py",
      "mimetype": "text/x-python",
      "name": "python",
      "nbconvert_exporter": "python",
      "pygments_lexer": "ipython3",
      "version": "3.9.6"
    },
    "orig_nbformat": 4,
    "vscode": {
      "interpreter": {
        "hash": "76b555e287514ca6eb8c9637462a0856ff355b2c8907aff56896af046b71dfb9"
      }
    },
    "colab": {
      "provenance": []
    }
  },
  "nbformat": 4,
  "nbformat_minor": 0
}