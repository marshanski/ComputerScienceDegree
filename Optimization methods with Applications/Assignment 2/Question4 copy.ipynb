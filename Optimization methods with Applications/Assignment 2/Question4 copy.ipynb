{
 "cells": [
  {
   "cell_type": "code",
   "execution_count": 13,
   "metadata": {},
   "outputs": [],
   "source": [
    "import numpy as np\n",
    "from numpy.linalg import norm,inv,eig,eigvals\n",
    "\n",
    "A = np.array([[2,-1,-1,0,0,0,0,0,0,0],\n",
    "              [-1,2,-1,0,0,0,0,0,0,0],\n",
    "              [-1,-1,3,-1,0,0,0,0,0,0],\n",
    "              [0,0,-1,5,-1,0,-1,0,-1,-1],\n",
    "              [0,0,0,-1,4,-1,-1,-1,0,0],\n",
    "              [0,0,0,0,-1,3,-1,-1,0,0],\n",
    "              [0,0,0,-1,-1,-1,5,-1,0,-1],\n",
    "              [0,0,0,0,-1,-1,-1,4,0,-1],\n",
    "              [0,0,0,-1,0,0,0,0,2,-1],\n",
    "              [0,0,0,-1,0,0,-1,-1,-1,4]])\n",
    "\n",
    "B = np.array([1,-1,1,-1,1,-1,1,-1,1,-1])\n"
   ]
  },
  {
   "cell_type": "code",
   "execution_count": 2,
   "metadata": {},
   "outputs": [],
   "source": [
    "def JacobiIterativeMethod(A,B,x0,maxIter=1000,e =10**(-5) , W=1.0,plots=None):\n",
    "    D     = np.diag(np.diag(A))\n",
    "    xK = x0.copy()\n",
    "    for k in range(maxIter):\n",
    "        xPrev = xK\n",
    "        xK    = xK + W * inv(D) @(B- A @ xK)\n",
    "        if((norm(A@xK -B)/norm(b) < e) or (norm(xK-xPrev)/norm(xPrev)< e)):\n",
    "            break\n",
    "        if plots:\n",
    "            plots.append(xK)\n",
    "    return xK\n"
   ]
  },
  {
   "cell_type": "code",
   "execution_count": 20,
   "metadata": {},
   "outputs": [
    {
     "name": "stdout",
     "output_type": "stream",
     "text": [
      "[ 1.          0.87320948  0.46616999  0.02788936 -0.17883622 -0.26080354\n",
      " -0.32489907 -0.586809   -0.5        -0.51592102]\n"
     ]
    }
   ],
   "source": [
    "D      = np.diag(np.diag(A))\n",
    "#I      = np.identity(10)*0.01\n",
    "I     = np.identity(10)\n",
    "\n",
    "\n",
    "D      = np.diag(np.diag(A))\n",
    "\n",
    "C     = I - (inv(D)@A)\n",
    "print(eigvals(C))\n",
    "#print(eigvals(II - (inv(D)@A)))\n",
    "#print(eigvals(II - (inv(D)@(A+I))))"
   ]
  }
 ],
 "metadata": {
  "kernelspec": {
   "display_name": "Python 3",
   "language": "python",
   "name": "python3"
  },
  "language_info": {
   "codemirror_mode": {
    "name": "ipython",
    "version": 3
   },
   "file_extension": ".py",
   "mimetype": "text/x-python",
   "name": "python",
   "nbconvert_exporter": "python",
   "pygments_lexer": "ipython3",
   "version": "3.10.1 (tags/v3.10.1:2cd268a, Dec  6 2021, 19:10:37) [MSC v.1929 64 bit (AMD64)]"
  },
  "orig_nbformat": 4,
  "vscode": {
   "interpreter": {
    "hash": "26de051ba29f2982a8de78e945f0abaf191376122a1563185a90213a26c5da77"
   }
  }
 },
 "nbformat": 4,
 "nbformat_minor": 2
}
