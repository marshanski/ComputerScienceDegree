{
  "nbformat": 4,
  "nbformat_minor": 0,
  "metadata": {
    "colab": {
      "name": "hw1.ipynb",
      "provenance": [],
      "collapsed_sections": []
    },
    "kernelspec": {
      "display_name": "Python 3",
      "language": "python",
      "name": "python3"
    },
    "language_info": {
      "codemirror_mode": {
        "name": "ipython",
        "version": 3
      },
      "file_extension": ".py",
      "mimetype": "text/x-python",
      "name": "python",
      "nbconvert_exporter": "python",
      "pygments_lexer": "ipython3",
      "version": "3.9.2"
    }
  },
  "cells": [
    {
      "cell_type": "markdown",
      "metadata": {
        "deletable": false,
        "editable": false,
        "id": "lJDTEYk5ktz8",
        "nbgrader": {
          "cell_type": "markdown",
          "checksum": "1253bf15ceb118e41da08cd2b9fbf63d",
          "grade": false,
          "grade_id": "cell-1d09a6bb7007a1c8",
          "locked": true,
          "schema_version": 3,
          "solution": false,
          "task": false
        }
      },
      "source": [
        "# Assignment 1: Approximation of mathematical functions \n",
        "### Due Date (22.4 - 12:00) "
      ]
    },
    {
      "cell_type": "markdown",
      "metadata": {
        "deletable": false,
        "editable": false,
        "nbgrader": {
          "cell_type": "markdown",
          "checksum": "a90d4c3dd36f6a73e134c8ac4c1d28ce",
          "grade": false,
          "grade_id": "cell-766f4d7a5c7cc969",
          "locked": true,
          "schema_version": 3,
          "solution": false,
          "task": false
        },
        "id": "fXZQV3a59kIG"
      },
      "source": [
        "<a id=\"gen_instructions\"></a>\n",
        "## Working on the assignment, todo and not todo:\n",
        "<b><u>Todo</u></b>:<br />\n",
        "<div class=\"alert alert-success\">\n",
        "<ul><li>&#x2714; <b> Work by yourself</b> and submit your own assignment, <b>no pairing</b> to other students</li>\n",
        "<li>&#x2714; Test and save your assignment - <b>submit the last tested and saved version</b></li>\n",
        "<li>&#x2714; to <b>submit</b> the assignment, download the notebook (File → Download .ipynb in Google Colab) and then upload the downloaded notebook</li>\n",
        "<li>&#x2714; submit <b>only</b> the <b>notebook (.ipynb)</b> file</li>\n",
        "<li>&#x2714; It is advisable to add extra cells to check your code implementation</li></ul>\n",
        "</div>\n",
        "<b><u>Not todo</u></b>:<br />\n",
        "<div class=\"alert alert-danger\">\n",
        "<ul><li>&#x2718; do <b>NOT</b> submit an <b>empty assignment</b></li>\n",
        "<li>&#x2718; do <b>NOT submit extra files</b>, <u>unless you're asked to do so</u></li>\n",
        "<li>&#x2718; <b>Do NOT submit a .py/.txt/.rar/.zip (or any non (.ipynb) file)</b> <u>version for the notebook</u> of the assignment</li>\n",
        "<li>&#x2718; <b>do NOT change</b> the notebook file name</li></ul>\n",
        "</div>\n",
        "<b><u>Not good - Any of the following</u></b>:<br/>\n",
        "<div class=\"alert alert-danger\">\n",
        "<ul><li>&#x2718; Code not Implemented</li>\n",
        "<li>&#x2718; No returned value</li>\n",
        "<li>&#x2718; Did not remove the '<code>raise NotImplementedError()</code>' line</li></ul>\n",
        "<code># --------------------------- (AFTER YOUR IMPLEMENTATION) RUN THIS CODE CELL  -------------------------------------\n",
        "'''\n",
        "What do you need to do?\n",
        "\n",
        "Complete the 'method_to_implement' function to do something (some explanation ...) and\n",
        "     return that value back\n",
        "'''\n",
        "def method_to_implement():\n",
        "    # YOUR CODE HERE\n",
        "    raise NotImplementedError()\n",
        "</code></div>\n"
      ]
    },
    {
      "cell_type": "code",
      "metadata": {
        "deletable": false,
        "editable": false,
        "id": "D4GcQI1Dkt0B",
        "nbgrader": {
          "cell_type": "code",
          "checksum": "7177678a6ec418ce165d12fbf7832d7b",
          "grade": false,
          "grade_id": "cell-ae5b5a746edcdf14",
          "locked": true,
          "schema_version": 3,
          "solution": false,
          "task": false
        }
      },
      "source": [
        "### import libraries\n",
        "import math\n",
        "import numpy\n",
        "import matplotlib.pyplot as plt\n",
        "from unittest.mock import patch\n",
        "%matplotlib inline\n"
      ],
      "execution_count": null,
      "outputs": []
    },
    {
      "cell_type": "markdown",
      "metadata": {
        "deletable": false,
        "editable": false,
        "id": "C7zps0rkkt0Q",
        "nbgrader": {
          "cell_type": "markdown",
          "checksum": "1088d067bbad1d413019bb3e9f1e32ce",
          "grade": false,
          "grade_id": "cell-8766d3d10007c1c1",
          "locked": true,
          "schema_version": 3,
          "solution": false,
          "task": false
        }
      },
      "source": [
        "## Question 1: Approximating $\\log$\n",
        "\n",
        "Function $\\log$ is defined on positive real numbers: $\\log(x): \\mathcal{R}^+ \\rightarrow \\mathcal{R}$. The Taylor series for $\\log$ has [the following form](https://en.wikipedia.org/wiki/Logarithm):\n",
        "\n",
        "\\begin{align}\\log (x)  &= \\frac{(x-1)^1}{1} - \\frac{(x-1)^2}{2} + \\frac{(x-1)^3}{3} - \\frac{(x-1)^4}{4} + \\cdots \\\\\n",
        "&= \\sum_{k=1}^\\infty (-1)^{k+1}\\frac{(x-1)^k}{k}\n",
        "\\end{align}\n",
        " \n"
      ]
    },
    {
      "cell_type": "code",
      "metadata": {
        "id": "ZhinZcOIDruS"
      },
      "source": [
        ""
      ],
      "execution_count": null,
      "outputs": []
    },
    {
      "cell_type": "markdown",
      "metadata": {
        "deletable": false,
        "editable": false,
        "id": "ehAcLFy1kt0W",
        "nbgrader": {
          "cell_type": "markdown",
          "checksum": "14f661b293558e59e5e43147df6c3a0e",
          "grade": false,
          "grade_id": "cell-af401c2a66a98547",
          "locked": true,
          "schema_version": 3,
          "solution": false,
          "task": false
        }
      },
      "source": [
        "Q1.1 Implement `log1` that approximates $\\log(x),\\,0 < x < 2$.\n",
        "<pre> \n",
        "computes log(x,n) with Taylor series approximation upto x^n\n",
        "------------\n",
        "Input parameters:\n",
        "- x  - desired value to compute log of \n",
        "- n - number of series elements\n",
        "------------\n",
        "return value:\n",
        "result of log(x)\n",
        "------------\n",
        "</pre>"
      ]
    },
    {
      "cell_type": "code",
      "metadata": {
        "deletable": false,
        "nbgrader": {
          "cell_type": "code",
          "checksum": "88cb71a458dc4b7d578b4654c8bba838",
          "grade": false,
          "grade_id": "cell-920e1c53000dd5e0",
          "locked": false,
          "schema_version": 3,
          "solution": true,
          "task": false
        },
        "id": "gbFt9OG99kIJ"
      },
      "source": [
        "def log1(x, n):\n",
        "    minusone_power = 1\n",
        "    result = 0\n",
        "    for i in range(1,n+1):\n",
        "      result = result + (minusone_power*((x-1)**i))/i\n",
        "      minusone_power=minusone_power*-1\n",
        "    return result  \n",
        "    "
      ],
      "execution_count": null,
      "outputs": []
    },
    {
      "cell_type": "code",
      "metadata": {
        "deletable": false,
        "editable": false,
        "nbgrader": {
          "cell_type": "code",
          "checksum": "f9ac8471535a2c4f0060ae7c5d741cfe",
          "grade": true,
          "grade_id": "cell-1bbc6e1a59a1da73",
          "locked": true,
          "points": 1,
          "schema_version": 3,
          "solution": false,
          "task": false
        },
        "id": "39iA8Wk-9kIJ",
        "colab": {
          "base_uri": "https://localhost:8080/"
        },
        "outputId": "eab01201-59c6-4815-88e6-7a552d05f622"
      },
      "source": [
        "# --------------------------- RUN THIS TEST CODE CELL -------------------------------------\n",
        "# Q1.1 --- Test your implementation:\n",
        "# ---------------------------\n",
        "print (\"Test 1 - Testing the implementation of the 'log1' function..\\n \")\n",
        "assert log1(0.5, 1) == -0.5 , 'Wrong answer , try implement diffrently'\n",
        "print (\"good job!\\nTests passed - 'log1' function implementation , there may be hidden tests too\")\n"
      ],
      "execution_count": null,
      "outputs": [
        {
          "output_type": "stream",
          "text": [
            "Test 1 - Testing the implementation of the 'log1' function..\n",
            " \n",
            "good job!\n",
            "Tests passed - 'log1' function implementation , there may be hidden tests too\n"
          ],
          "name": "stdout"
        }
      ]
    },
    {
      "cell_type": "markdown",
      "metadata": {
        "deletable": false,
        "editable": false,
        "nbgrader": {
          "cell_type": "markdown",
          "checksum": "42f581727c34f896f309daae5bdc195c",
          "grade": false,
          "grade_id": "cell-bde4348db950e640",
          "locked": true,
          "schema_version": 3,
          "solution": false,
          "task": false
        },
        "id": "yFNcHX_T9kIJ"
      },
      "source": [
        "_Q1.2.A_<br> Plot  `numpy.log` and `log1` for $0 < x < 3$.  (use plot_fun function from the [lecture 2 notebook](https://colab.research.google.com/drive/1PAXmH_v6sQmbmAYrRK48eCfFQWLcQO3K))"
      ]
    },
    {
      "cell_type": "code",
      "metadata": {
        "deletable": false,
        "nbgrader": {
          "cell_type": "code",
          "checksum": "ceb5219ba0f476c7c0979f6a0934084f",
          "grade": true,
          "grade_id": "cell-d2580e69b4962db7",
          "locked": false,
          "points": 2,
          "schema_version": 3,
          "solution": true,
          "task": false
        },
        "id": "l2JoxegP9kIK",
        "colab": {
          "base_uri": "https://localhost:8080/",
          "height": 359
        },
        "outputId": "c588e7e5-88e8-47af-b914-3d30378c0069"
      },
      "source": [
        "# YOUR CODE HERE\n",
        "def plot_fun(f, g, min=-5, max=5, logn_from=0, logn_till=4):\n",
        "  \"\"\"Plots approximate function f with a finite number of terms of Taylor\n",
        "  series, and accurate function g for a range of arguments between min and max.\n",
        "  f is plotted for numbers of Taylor series terms ranging exponentially from\n",
        "  2**logn_from to 2**(logn_till-1), inclusive.\n",
        "  Arguments:\n",
        "     f - approximate function f(x, n) computing the value at x using n terms\n",
        "        of Taylor series.\n",
        "     g - accurate (practically exact) function g(x).\n",
        "     min - minimum value of the range of arguments.\n",
        "     max - maximum value of the range of arguments.\n",
        "     logn_from - the smallest number of Taylor series terms is 2**logn_from.\n",
        "     logn_till - the largets number of Taylor series terms is 2**(logn_till-1).\n",
        "  \"\"\"\n",
        "  # Create a vector of 10000 values equally spaced between min and max.\n",
        "  x=numpy.linspace(min, max, 10000)\n",
        "  # Prepare a canvas for the graph.\n",
        "  plt.figure(figsize=(8, 3)).set_dpi(120)\n",
        "  # Plot axes x=0 and y=0, dashed.\n",
        "  plt.axhline(0, ls='--', c='black', lw=0.5)\n",
        "  plt.axvline(0, ls='--', c='black', lw=0.5)\n",
        "  # Plot the 'exact' function.\n",
        "  plt.plot(x, g(x), label=\"exact\", c='gray', lw=4)\n",
        "  # For each number of Taylor series terms ...\n",
        "  for logn in range(logn_from, logn_till):\n",
        "      n = 2**logn\n",
        "      y = [f(x_, n) for x_ in x]\n",
        "      # Plot the Taylor approximation\n",
        "      plt.plot(x, y, label=f\"n={n}\")\n",
        "  # Display the legend\n",
        "  plt.legend()\n",
        "\n",
        "plot_fun(log1, numpy.log, min=0, max=3)\n"
      ],
      "execution_count": null,
      "outputs": [
        {
          "output_type": "stream",
          "text": [
            "/usr/local/lib/python3.7/dist-packages/ipykernel_launcher.py:24: RuntimeWarning: divide by zero encountered in log\n"
          ],
          "name": "stderr"
        },
        {
          "output_type": "display_data",
          "data": {
            "image/png": "[encoded data removed]",
            "text/plain": [
              "<Figure size 960x360 with 1 Axes>"
            ]
          },
          "metadata": {
            "tags": [],
            "needs_background": "light"
          }
        }
      ]
    },
    {
      "cell_type": "markdown",
      "metadata": {
        "deletable": false,
        "editable": false,
        "nbgrader": {
          "cell_type": "markdown",
          "checksum": "f3b1b1f1f8beb352e2a77da0570a69c1",
          "grade": false,
          "grade_id": "cell-c33291ca91555466",
          "locked": true,
          "schema_version": 3,
          "solution": false,
          "task": false
        },
        "id": "wBqJq0eR9kIK"
      },
      "source": [
        "\n",
        "_Q1.2B_<br> What is the maximum absolute error that you see in the graph?\n",
        "Implement `maximum_absolute_error` that returns your answer.\n",
        "<pre> \n",
        "------------\n",
        "Input parameters:\n",
        "\n",
        "nothing\n",
        "------------\n",
        "return value:\n",
        "\n",
        "your answer as a float\n",
        "------------\n",
        "</pre>"
      ]
    },
    {
      "cell_type": "code",
      "metadata": {
        "deletable": false,
        "nbgrader": {
          "cell_type": "code",
          "checksum": "2407500d261c0abd8a1c89c76a76779f",
          "grade": false,
          "grade_id": "cell-36cd901a0ca1d2f8",
          "locked": false,
          "schema_version": 3,
          "solution": true,
          "task": false
        },
        "id": "LOIMqNe_9kIL"
      },
      "source": [
        "def maximum_absolute_error():\n",
        "    max_abs_err = 0.0\n",
        "    for logn in range(4):\n",
        "      n = 2**logn      \n",
        "      for i in [0.5,1,1.5,2,2.5,3]: # samples\n",
        "       if(max_abs_err<abs(numpy.log(i) - log1(i,n))):\n",
        "        max_abs_err = abs(numpy.log(i) - log1(i,n))\n",
        "         \n",
        "\n",
        "    return float(max_abs_err) \n",
        "    "
      ],
      "execution_count": 81,
      "outputs": []
    },
    {
      "cell_type": "code",
      "metadata": {
        "deletable": false,
        "editable": false,
        "nbgrader": {
          "cell_type": "code",
          "checksum": "113f2f0fdfa061372871667c26c39e46",
          "grade": true,
          "grade_id": "cell-7bd1b5140f110269",
          "locked": true,
          "points": 1,
          "schema_version": 3,
          "solution": false,
          "task": false
        },
        "id": "9UZcYPDg9kIL",
        "colab": {
          "base_uri": "https://localhost:8080/"
        },
        "outputId": "dc4af644-e60f-438a-8caa-53456e2a2400"
      },
      "source": [
        "# --------------------------- RUN THIS TEST CODE CELL -------------------------------------\n",
        "# Q1.2.B --- Test your implementation:\n",
        "# ---------------------------\n",
        "print (\"Test 2 - Testing the implementation of the 'maximum_absolute_error' function..\\n \")\n",
        "assert type(maximum_absolute_error()) is float ,\"check that your return value is float\"\n",
        "print (\"good job!\\nTests passed - 'maximum_absolute_error' function implementation , there may be hidden tests too\")\n"
      ],
      "execution_count": 82,
      "outputs": [
        {
          "output_type": "stream",
          "text": [
            "Test 2 - Testing the implementation of the 'maximum_absolute_error' function..\n",
            " \n",
            "20.412898002953828\n",
            "good job!\n",
            "Tests passed - 'maximum_absolute_error' function implementation , there may be hidden tests too\n"
          ],
          "name": "stdout"
        }
      ]
    },
    {
      "cell_type": "markdown",
      "metadata": {
        "deletable": false,
        "editable": false,
        "nbgrader": {
          "cell_type": "markdown",
          "checksum": "b1ee1d4ed0665385d31035989a2bac18",
          "grade": false,
          "grade_id": "cell-343c382d59e56872",
          "locked": true,
          "schema_version": 3,
          "solution": false,
          "task": false
        },
        "id": "HHKNhhq99kIL"
      },
      "source": [
        "\n",
        "_Q1.2C_<br> What is the maximum relative error that you see in the graph?\n",
        "Implement `maximum_relative_error` that returns your answer.\n",
        "<pre> \n",
        "------------\n",
        "Input parameters:\n",
        "\n",
        "nothing\n",
        "------------\n",
        "return value:\n",
        "\n",
        "your answer as a float\n",
        "------------\n",
        "</pre>"
      ]
    },
    {
      "cell_type": "code",
      "metadata": {
        "deletable": false,
        "nbgrader": {
          "cell_type": "code",
          "checksum": "044cffd4467da29ac19af6cfb561a59e",
          "grade": false,
          "grade_id": "cell-d8ae53f747c2d219",
          "locked": false,
          "schema_version": 3,
          "solution": true,
          "task": false
        },
        "id": "ZZxmzS8O9kIM"
      },
      "source": [
        "def maximum_relative_error():\n",
        "     max_abs_err = 0.0\n",
        "     sample_max = 0 # the sample which has the max absulote error\n",
        "     for logn in range(4): # calculating the max absulote error\n",
        "      n = 2**logn      \n",
        "      for i in [0.5,1,1.5,2,2.5,3]: # samples\n",
        "       if(max_abs_err<abs(numpy.log(i) - log1(i,n))):\n",
        "        max_abs_err = abs(numpy.log(i) - log1(i,n))\n",
        "        sample_max  = i\n",
        "      return float(max_abs_err/numpy.log(sample_max)*100) # max relative error\n",
        "    "
      ],
      "execution_count": null,
      "outputs": []
    },
    {
      "cell_type": "code",
      "metadata": {
        "deletable": false,
        "editable": false,
        "nbgrader": {
          "cell_type": "code",
          "checksum": "08e407534619505332ab0d50036262a9",
          "grade": true,
          "grade_id": "cell-2415d7b4dc3e038d",
          "locked": true,
          "points": 1,
          "schema_version": 3,
          "solution": false,
          "task": false
        },
        "id": "wlCoYs5w9kIM",
        "colab": {
          "base_uri": "https://localhost:8080/"
        },
        "outputId": "9b77c0a5-4195-4ee8-d45f-d050081c0fdc"
      },
      "source": [
        "# --------------------------- RUN THIS TEST CODE CELL -------------------------------------\n",
        "# Q1.2.C --- Test your implementation:\n",
        "# ---------------------------\n",
        "print (\"Test 3 - Testing the implementation of the 'maximum_relative_error' function..\\n \")\n",
        "assert type(maximum_relative_error()) is float ,\"check that your return value is float\"\n",
        "print (\"good job!\\nTests passed - 'maximum_relative_error' function implementation , there may be hidden tests too\")\n"
      ],
      "execution_count": null,
      "outputs": [
        {
          "output_type": "stream",
          "text": [
            "Test 3 - Testing the implementation of the 'maximum_relative_error' function..\n",
            " \n",
            "good job!\n",
            "Tests passed - 'maximum_relative_error' function implementation , there may be hidden tests too\n"
          ],
          "name": "stdout"
        }
      ]
    },
    {
      "cell_type": "markdown",
      "metadata": {
        "deletable": false,
        "editable": false,
        "nbgrader": {
          "cell_type": "markdown",
          "checksum": "0f854bf3544bf0c93b16e6cf911fb540",
          "grade": false,
          "grade_id": "cell-e70bf4cafc7503fc",
          "locked": true,
          "schema_version": 3,
          "solution": false,
          "task": false
        },
        "id": "jmlSFcIz9kIM"
      },
      "source": [
        "\n",
        "\n",
        "Q1.3 <br>Implement `log2` that approximates $\\log(x),\\,0 < x <  \\infty$.    _Hint:_ $\\log (e^N\\cdot x) = N + \\log x$.\n",
        "\n",
        "computes log(x,n) with Taylor series approximation upto x^n \n",
        "<pre> \n",
        "------------\n",
        "Input parameters:\n",
        "- x  - desired value to compute log of \n",
        "- n - number of series elements\n",
        "------------\n",
        "return value:\n",
        "result of log(x)\n",
        "------------\n",
        "</pre>"
      ]
    },
    {
      "cell_type": "code",
      "metadata": {
        "deletable": false,
        "nbgrader": {
          "cell_type": "code",
          "checksum": "70f79c1256d7426d599ca220ea087fd7",
          "grade": false,
          "grade_id": "cell-eab6924f8668b06a",
          "locked": false,
          "schema_version": 3,
          "solution": true,
          "task": false
        },
        "id": "pcxeY4kY9kIN"
      },
      "source": [
        "def log2(x,n):\n",
        "    e = math.e\n",
        "    e_power_N = 1 # e^0=1\n",
        "    N = 0\n",
        "    while(x>e_power_N):\n",
        "      e_power_N = e_power_N * e\n",
        "      N = N + 1\n",
        "    y = x/e_power_N\n",
        "    return N + log1(y,n) \n",
        "    "
      ],
      "execution_count": null,
      "outputs": []
    },
    {
      "cell_type": "code",
      "metadata": {
        "deletable": false,
        "editable": false,
        "nbgrader": {
          "cell_type": "code",
          "checksum": "7709f4081fca392c531526d468759a00",
          "grade": true,
          "grade_id": "cell-a41a9f6f3c8f1351",
          "locked": true,
          "points": 1,
          "schema_version": 3,
          "solution": false,
          "task": false
        },
        "id": "AeolhEYU9kIN",
        "colab": {
          "base_uri": "https://localhost:8080/"
        },
        "outputId": "c80f1f3e-a44b-478d-bc5d-6ea7ca8a314c"
      },
      "source": [
        "# --------------------------- RUN THIS TEST CODE CELL -------------------------------------\n",
        "# Q1.3 --- Test your implementation:\n",
        "# ---------------------------\n",
        "print (\"Test 4 - Testing the implementation of the 'log2' function..\\n \")\n",
        "assert log2(0.5, 1) == -0.5 , 'Wrong answer , try implement diffrently'\n",
        "assert log2(math.e, 2) == 1 , 'Wrong answer , try implement diffrently'\n",
        "print (\"good job!\\nTests passed - 'log2' function implementation , there may be hidden tests too\")\n"
      ],
      "execution_count": null,
      "outputs": [
        {
          "output_type": "stream",
          "text": [
            "Test 4 - Testing the implementation of the 'log2' function..\n",
            " \n",
            "good job!\n",
            "Tests passed - 'log2' function implementation , there may be hidden tests too\n"
          ],
          "name": "stdout"
        }
      ]
    },
    {
      "cell_type": "markdown",
      "metadata": {
        "deletable": false,
        "editable": false,
        "nbgrader": {
          "cell_type": "markdown",
          "checksum": "93ba0245d62466da2ebe4c0d335e9dc2",
          "grade": false,
          "grade_id": "cell-78996db935e5c0a0",
          "locked": true,
          "schema_version": 3,
          "solution": false,
          "task": false
        },
        "id": "HNhO4gaZ9kIN"
      },
      "source": [
        "_Q1.4A._ <br>Plot `math.log` and `log2` for $0.5 < x < 50$.  (use plot_fun function from the [lecture 2 notebook](https://colab.research.google.com/drive/1PAXmH_v6sQmbmAYrRK48eCfFQWLcQO3K))"
      ]
    },
    {
      "cell_type": "code",
      "metadata": {
        "deletable": false,
        "nbgrader": {
          "cell_type": "code",
          "checksum": "b474934f413110995dfd1a9690df40c8",
          "grade": true,
          "grade_id": "cell-2586aea0fb6725f7",
          "locked": false,
          "points": 2,
          "schema_version": 3,
          "solution": true,
          "task": false
        },
        "id": "jHqv6g4o9kIO",
        "colab": {
          "base_uri": "https://localhost:8080/",
          "height": 342
        },
        "outputId": "408f1685-09a6-4b76-e267-da6188891fdc"
      },
      "source": [
        "def plot_fun(f, g, min=-5, max=5, logn_from=0, logn_till=4):\n",
        "  \"\"\"Plots approximate function f with a finite number of terms of Taylor\n",
        "  series, and accurate function g for a range of arguments between min and max.\n",
        "  f is plotted for numbers of Taylor series terms ranging exponentially from\n",
        "  2**logn_from to 2**(logn_till-1), inclusive.\n",
        "  Arguments:\n",
        "     f - approximate function f(x, n) computing the value at x using n terms\n",
        "        of Taylor series.\n",
        "     g - accurate (practically exact) function g(x).\n",
        "     min - minimum value of the range of arguments.\n",
        "     max - maximum value of the range of arguments.\n",
        "     logn_from - the smallest number of Taylor series terms is 2**logn_from.\n",
        "     logn_till - the largets number of Taylor series terms is 2**(logn_till-1).\n",
        "  \"\"\"\n",
        "  # Create a vector of 10000 values equally spaced between min and max.\n",
        "  x=numpy.linspace(min, max, 10000)\n",
        "  # Prepare a canvas for the graph.\n",
        "  plt.figure(figsize=(8, 3)).set_dpi(120)\n",
        "  # Plot axes x=0 and y=0, dashed.\n",
        "  plt.axhline(0, ls='--', c='black', lw=0.5)\n",
        "  plt.axvline(0, ls='--', c='black', lw=0.5)\n",
        "  # Plot the 'exact' function.\n",
        "  plt.plot(x, g(x), label=\"exact\", c='gray', lw=4)\n",
        "  # For each number of Taylor series terms ...\n",
        "  for logn in range(logn_from, logn_till):\n",
        "      n = 2**logn\n",
        "      y = [f(x_, n) for x_ in x]\n",
        "      # Plot the Taylor approximation\n",
        "      plt.plot(x, y, label=f\"n={n}\")\n",
        "  # Display the legend\n",
        "  plt.legend()\n",
        "\n",
        "plot_fun(log2, numpy.log, min=0.5, max=50)\n"
      ],
      "execution_count": null,
      "outputs": [
        {
          "output_type": "display_data",
          "data": {
            "image/png": "[encoded data removed]",
            "text/plain": [
              "<Figure size 960x360 with 1 Axes>"
            ]
          },
          "metadata": {
            "tags": [],
            "needs_background": "light"
          }
        }
      ]
    },
    {
      "cell_type": "markdown",
      "metadata": {
        "deletable": false,
        "editable": false,
        "nbgrader": {
          "cell_type": "markdown",
          "checksum": "6628d8fc281c9d2a9784514ef6e5a771",
          "grade": false,
          "grade_id": "cell-5b8a257c36b44e1f",
          "locked": true,
          "schema_version": 3,
          "solution": false,
          "task": false
        },
        "id": "5D9bHzM89kIP"
      },
      "source": [
        "\n",
        "_Q1.4B_ <br>What is the _absolute_ error of `log2` compared to `math.log` for x=3 , n=1?\n",
        "Implement `absolute_error_31` that returns your answer.\n",
        "<pre> \n",
        "------------\n",
        "Input parameters:\n",
        "\n",
        "nothing\n",
        "------------\n",
        "return value:\n",
        "\n",
        "your answer as a float\n",
        "------------\n",
        "</pre>"
      ]
    },
    {
      "cell_type": "code",
      "metadata": {
        "deletable": false,
        "nbgrader": {
          "cell_type": "code",
          "checksum": "b095a9e0b9e8781ee42e7b6e406ad68d",
          "grade": false,
          "grade_id": "cell-acf724df61d90825",
          "locked": false,
          "schema_version": 3,
          "solution": true,
          "task": false
        },
        "id": "W8adHupl9kIP"
      },
      "source": [
        "def absolute_error_31():\n",
        "  return float(abs(log2(3,1) - numpy.log(3)))\n",
        "    "
      ],
      "execution_count": null,
      "outputs": []
    },
    {
      "cell_type": "code",
      "metadata": {
        "deletable": false,
        "editable": false,
        "nbgrader": {
          "cell_type": "code",
          "checksum": "385234c7edab105aee23a53ba8e234c1",
          "grade": true,
          "grade_id": "cell-09570556175dbde9",
          "locked": true,
          "points": 1,
          "schema_version": 3,
          "solution": false,
          "task": false
        },
        "id": "TtOr0O8V9kIP",
        "colab": {
          "base_uri": "https://localhost:8080/"
        },
        "outputId": "d4995651-b935-41af-b39e-a5c9f749f6cc"
      },
      "source": [
        "# --------------------------- RUN THIS TEST CODE CELL -------------------------------------\n",
        "# Q1.4.B --- Test your implementation:\n",
        "# ---------------------------\n",
        "print (\"Test 2 - Testing the implementation of the 'absolute_error_31' function..\\n \")\n",
        "assert type(absolute_error_31()) is float ,\"check that your return value is float\"\n",
        "print (\"good job!\\nTests passed - 'absolute_error_31' function implementation , there may be hidden tests too\")\n"
      ],
      "execution_count": null,
      "outputs": [
        {
          "output_type": "stream",
          "text": [
            "Test 2 - Testing the implementation of the 'absolute_error_31' function..\n",
            " \n",
            "good job!\n",
            "Tests passed - 'absolute_error_31' function implementation , there may be hidden tests too\n"
          ],
          "name": "stdout"
        }
      ]
    },
    {
      "cell_type": "markdown",
      "metadata": {
        "deletable": false,
        "editable": false,
        "nbgrader": {
          "cell_type": "markdown",
          "checksum": "0d56092a6a9fe91b12928c3981cfb46e",
          "grade": false,
          "grade_id": "cell-962b8cdb062010e1",
          "locked": true,
          "schema_version": 3,
          "solution": false,
          "task": false
        },
        "id": "g_SXksyG9kIQ"
      },
      "source": [
        "\n",
        "_Q1.4C_ <br>What is the _relative_ error of `log2` compared to `math.log` for x=3 , n=1?\n",
        "Implement `relative_error_31` that returns your answer.\n",
        "<pre> \n",
        "------------\n",
        "Input parameters:\n",
        "\n",
        "nothing\n",
        "------------\n",
        "return value:\n",
        "\n",
        "your answer as a float\n",
        "------------\n",
        "</pre>"
      ]
    },
    {
      "cell_type": "code",
      "metadata": {
        "deletable": false,
        "nbgrader": {
          "cell_type": "code",
          "checksum": "f428d103a87dbebab8afe0d582a8220c",
          "grade": false,
          "grade_id": "cell-78db73ecda36890c",
          "locked": false,
          "schema_version": 3,
          "solution": true,
          "task": false
        },
        "id": "_WIEWKSW9kIQ"
      },
      "source": [
        "def relative_error_31():\n",
        "    return float(absolute_error_31()/numpy.log(3)*100)\n",
        "    "
      ],
      "execution_count": null,
      "outputs": []
    },
    {
      "cell_type": "code",
      "metadata": {
        "deletable": false,
        "editable": false,
        "nbgrader": {
          "cell_type": "code",
          "checksum": "66dbda2b8eff01b48881e827d06f1689",
          "grade": true,
          "grade_id": "cell-6bc18eadcad71593",
          "locked": true,
          "points": 1,
          "schema_version": 3,
          "solution": false,
          "task": false
        },
        "id": "kIWO8E499kIQ",
        "colab": {
          "base_uri": "https://localhost:8080/"
        },
        "outputId": "4b519da4-5059-4dff-c260-af3c4cc6d0eb"
      },
      "source": [
        "# --------------------------- RUN THIS TEST CODE CELL -------------------------------------\n",
        "# Q1.4.C --- Test your implementation:\n",
        "# ---------------------------\n",
        "print (\"Test 2 - Testing the implementation of the 'relative_error_31' function..\\n \")\n",
        "assert type(relative_error_31()) is float ,\"check that your return value is float\"\n",
        "print (\"good job!\\nTests passed - 'relative_error_31' function implementation , there may be hidden tests too\")\n"
      ],
      "execution_count": null,
      "outputs": [
        {
          "output_type": "stream",
          "text": [
            "Test 2 - Testing the implementation of the 'relative_error_31' function..\n",
            " \n",
            "good job!\n",
            "Tests passed - 'relative_error_31' function implementation , there may be hidden tests too\n"
          ],
          "name": "stdout"
        }
      ]
    },
    {
      "cell_type": "markdown",
      "metadata": {
        "deletable": false,
        "editable": false,
        "nbgrader": {
          "cell_type": "markdown",
          "checksum": "3cd8610cef6f4943b12e59ea9c576d57",
          "grade": false,
          "grade_id": "cell-fbc5217f504d6ff5",
          "locked": true,
          "schema_version": 3,
          "solution": false,
          "task": false
        },
        "id": "0erTLQI-9kIQ"
      },
      "source": [
        "\n",
        "_Q1.4D_ <br>What is the _absolute_ error of `log2` compared to `math.log` for x=3 , n=8?\n",
        "Implement `absolute_error_38` that returns your answer.\n",
        "<pre> \n",
        "------------\n",
        "Input parameters:\n",
        "\n",
        "nothing\n",
        "------------\n",
        "return value:\n",
        "\n",
        "your answer as a float\n",
        "------------\n",
        "</pre>"
      ]
    },
    {
      "cell_type": "code",
      "metadata": {
        "deletable": false,
        "nbgrader": {
          "cell_type": "code",
          "checksum": "a0c27a404b9380bbfda1db49830ddccc",
          "grade": false,
          "grade_id": "cell-1c0c7f0f69dbeb9b",
          "locked": false,
          "schema_version": 3,
          "solution": true,
          "task": false
        },
        "id": "HQva10hS9kIR"
      },
      "source": [
        "def absolute_error_38():\n",
        "    return float(abs(log2(3,8) - numpy.log(3)))"
      ],
      "execution_count": null,
      "outputs": []
    },
    {
      "cell_type": "code",
      "metadata": {
        "deletable": false,
        "editable": false,
        "nbgrader": {
          "cell_type": "code",
          "checksum": "e9d9ed9852df89de7fc16213b26b2154",
          "grade": true,
          "grade_id": "cell-21859c787a6c71d3",
          "locked": true,
          "points": 1,
          "schema_version": 3,
          "solution": false,
          "task": false
        },
        "id": "pvYiDd0B9kIR",
        "colab": {
          "base_uri": "https://localhost:8080/"
        },
        "outputId": "2c00f672-045f-4f01-8225-cc66d1f0384a"
      },
      "source": [
        "# --------------------------- RUN THIS TEST CODE CELL -------------------------------------\n",
        "# Q1.4.D --- Test your implementation:\n",
        "# ---------------------------\n",
        "print (\"Test 2 - Testing the implementation of the 'absolute_error_38' function..\\n \")\n",
        "assert type(absolute_error_38()) is float ,\"check that your return value is float\"\n",
        "print (\"good job!\\nTests passed - 'absolute_error_38' function implementation , there may be hidden tests too\")\n"
      ],
      "execution_count": null,
      "outputs": [
        {
          "output_type": "stream",
          "text": [
            "Test 2 - Testing the implementation of the 'absolute_error_38' function..\n",
            " \n",
            "good job!\n",
            "Tests passed - 'absolute_error_38' function implementation , there may be hidden tests too\n"
          ],
          "name": "stdout"
        }
      ]
    },
    {
      "cell_type": "markdown",
      "metadata": {
        "deletable": false,
        "editable": false,
        "nbgrader": {
          "cell_type": "markdown",
          "checksum": "453ab434f7aee15d00d54df6843441e2",
          "grade": false,
          "grade_id": "cell-304b6ebc51aefffd",
          "locked": true,
          "schema_version": 3,
          "solution": false,
          "task": false
        },
        "id": "sAbM7ge39kIR"
      },
      "source": [
        "\n",
        "_Q1.4E_ <br>What is the _absolute_ error of `log2` compared to `math.log` for x=39 , n=1?\n",
        "Implement `absolute_error_391` that returns your answer.\n",
        "<pre> \n",
        "------------\n",
        "Input parameters:\n",
        "\n",
        "nothing\n",
        "------------\n",
        "return value:\n",
        "\n",
        "your answer as a float\n",
        "------------\n",
        "</pre>"
      ]
    },
    {
      "cell_type": "code",
      "metadata": {
        "deletable": false,
        "nbgrader": {
          "cell_type": "code",
          "checksum": "6fe1f70f896bf3720676228a060bf404",
          "grade": false,
          "grade_id": "cell-96952bddb82e634c",
          "locked": false,
          "schema_version": 3,
          "solution": true,
          "task": false
        },
        "id": "ZV73i2Ys9kIR"
      },
      "source": [
        "def absolute_error_391():\n",
        "    return float(abs(log2(39,1) - numpy.log(39)))"
      ],
      "execution_count": null,
      "outputs": []
    },
    {
      "cell_type": "code",
      "metadata": {
        "deletable": false,
        "editable": false,
        "nbgrader": {
          "cell_type": "code",
          "checksum": "5f85464c8b5d205f906dde404f4afbbb",
          "grade": true,
          "grade_id": "cell-8d173d11bfdc0270",
          "locked": true,
          "points": 1,
          "schema_version": 3,
          "solution": false,
          "task": false
        },
        "id": "H-tvd3VH9kIS",
        "colab": {
          "base_uri": "https://localhost:8080/"
        },
        "outputId": "a97055b7-b24c-4543-d7ab-0256737ac1fb"
      },
      "source": [
        "# --------------------------- RUN THIS TEST CODE CELL -------------------------------------\n",
        "# Q1.4.E --- Test your implementation:\n",
        "# ---------------------------\n",
        "print (\"Test 2 - Testing the implementation of the 'absolute_error_391' function..\\n \")\n",
        "assert type(absolute_error_391()) is float ,\"check that your return value is float\"\n",
        "print (\"good job!\\nTests passed - 'absolute_error_391' function implementation , there may be hidden tests too\")\n"
      ],
      "execution_count": null,
      "outputs": [
        {
          "output_type": "stream",
          "text": [
            "Test 2 - Testing the implementation of the 'absolute_error_391' function..\n",
            " \n",
            "good job!\n",
            "Tests passed - 'absolute_error_391' function implementation , there may be hidden tests too\n"
          ],
          "name": "stdout"
        }
      ]
    },
    {
      "cell_type": "markdown",
      "metadata": {
        "deletable": false,
        "editable": false,
        "nbgrader": {
          "cell_type": "markdown",
          "checksum": "f9d3da0e519c666cb491134a86ea4d65",
          "grade": false,
          "grade_id": "cell-4f86ad8260bbda5f",
          "locked": true,
          "schema_version": 3,
          "solution": false,
          "task": false
        },
        "id": "Nei-bN0q9kIS"
      },
      "source": [
        "_Q1.4F_<br> What is the _relative_ error of `log2` compared to `math.log` for x=39 , n=1?\n",
        "Implement `relative_error_391` that returns your answer.\n",
        "<pre> \n",
        "------------\n",
        "Input parameters:\n",
        "\n",
        "nothing\n",
        "------------\n",
        "return value:\n",
        "\n",
        "your answer as a float\n",
        "------------\n",
        "</pre>"
      ]
    },
    {
      "cell_type": "code",
      "metadata": {
        "deletable": false,
        "nbgrader": {
          "cell_type": "code",
          "checksum": "693828f1a8876f07a5d958646381ffc0",
          "grade": false,
          "grade_id": "cell-6d0960062b29755d",
          "locked": false,
          "schema_version": 3,
          "solution": true,
          "task": false
        },
        "id": "nkKIcRJ_9kIS"
      },
      "source": [
        "def relative_error_391():\n",
        "    return float(absolute_error_391()/numpy.log(39)*100)"
      ],
      "execution_count": null,
      "outputs": []
    },
    {
      "cell_type": "code",
      "metadata": {
        "deletable": false,
        "editable": false,
        "nbgrader": {
          "cell_type": "code",
          "checksum": "b3894210ab721951ab7b29f85e007cc0",
          "grade": true,
          "grade_id": "cell-793da5eedd5c1613",
          "locked": true,
          "points": 1,
          "schema_version": 3,
          "solution": false,
          "task": false
        },
        "id": "-McemT7c9kIT",
        "colab": {
          "base_uri": "https://localhost:8080/"
        },
        "outputId": "96b6362b-e334-4a06-d3bf-fe78af0fbb9a"
      },
      "source": [
        "# --------------------------- RUN THIS TEST CODE CELL -------------------------------------\n",
        "# Q1.4.F --- Test your implementation:\n",
        "# ---------------------------\n",
        "print (\"Test 2 - Testing the implementation of the 'relative_error_391' function..\\n \")\n",
        "assert type(relative_error_391()) is float ,\"check that your return value is float\"\n",
        "print (\"good job!\\nTests passed - 'relative_error_391' function implementation , there may be hidden tests too\")\n"
      ],
      "execution_count": null,
      "outputs": [
        {
          "output_type": "stream",
          "text": [
            "Test 2 - Testing the implementation of the 'relative_error_391' function..\n",
            " \n",
            "good job!\n",
            "Tests passed - 'relative_error_391' function implementation , there may be hidden tests too\n"
          ],
          "name": "stdout"
        }
      ]
    },
    {
      "cell_type": "markdown",
      "metadata": {
        "deletable": false,
        "editable": false,
        "id": "xo9nKfZrkt0e",
        "nbgrader": {
          "cell_type": "markdown",
          "checksum": "f716ff5dfd9b6da9b1e267f3636dff18",
          "grade": false,
          "grade_id": "cell-7cc66af5d7cb7d8c",
          "locked": true,
          "schema_version": 3,
          "solution": false,
          "task": false
        }
      },
      "source": [
        "## Question 2: Using approximate versions of  $\\log$ and $\\exp$\n"
      ]
    },
    {
      "cell_type": "markdown",
      "metadata": {
        "deletable": false,
        "editable": false,
        "nbgrader": {
          "cell_type": "markdown",
          "checksum": "9fa4393ec432ca27f07757ca81ed9fe5",
          "grade": false,
          "grade_id": "cell-8950fbd93b73d5d2",
          "locked": true,
          "schema_version": 3,
          "solution": false,
          "task": false
        },
        "id": "UqXXFP8f9kIT"
      },
      "source": [
        "Q2.1A <br>Implement \"logfact2\" $$\\log n! = \\sum_{i=1}^n \\log i$$ (similar to : [lecture 1 notebook](https://colab.research.google.com/drive/1PS2XZEKAhsV7Wq97Szk1RH93HWuhTyYF).)\n",
        "\n",
        "Use 'log2' from question 1 to implement logfact function \n",
        "<pre> \n",
        "------------\n",
        "Input parameters:\n",
        "- n - Factorial \n",
        "- p - numbers of Taylor series (for log2)\n",
        "------------\n",
        "return value:\n",
        "- logf - log(n!)\n",
        "------------\n",
        "</pre>"
      ]
    },
    {
      "cell_type": "code",
      "metadata": {
        "deletable": false,
        "nbgrader": {
          "cell_type": "code",
          "checksum": "d78f956b394e000c8c78aa8304ced8b7",
          "grade": false,
          "grade_id": "cell-29c27c2be6b8e86d",
          "locked": false,
          "schema_version": 3,
          "solution": true,
          "task": false
        },
        "id": "elXeseRL9kIT"
      },
      "source": [
        "def logfact2(n,p):\n",
        "    result = 0\n",
        "    for i in range(1,n+1):\n",
        "     result = result + log2(i,p)\n",
        "    return result"
      ],
      "execution_count": null,
      "outputs": []
    },
    {
      "cell_type": "markdown",
      "metadata": {
        "deletable": false,
        "editable": false,
        "nbgrader": {
          "cell_type": "markdown",
          "checksum": "7c98ceecc82878db53a16fc66cda9394",
          "grade": false,
          "grade_id": "cell-a4f8180384f0f2f3",
          "locked": true,
          "schema_version": 3,
          "solution": false,
          "task": false
        },
        "id": "QBwDdXZ99kIU"
      },
      "source": [
        "Q2.1B <br>Implement \"logfact1\" $$\\log n! = \\sum_{i=1}^n \\log i$$\n",
        "\n",
        "Use 'math.log' to implement it\n",
        "<pre> \n",
        "------------\n",
        "Input parameters:\n",
        "- n - Factorial\n",
        "------------\n",
        "return value:\n",
        "- logf - log(n!)\n",
        "------------\n",
        "</pre>"
      ]
    },
    {
      "cell_type": "code",
      "metadata": {
        "deletable": false,
        "nbgrader": {
          "cell_type": "code",
          "checksum": "900c153c9a66b262932a9c57835f6738",
          "grade": false,
          "grade_id": "cell-d257f0c7e1d9e74e",
          "locked": false,
          "schema_version": 3,
          "solution": true,
          "task": false
        },
        "id": "ClEUWZyj9kIU"
      },
      "source": [
        "def logfact1(n):\n",
        "    result = 0\n",
        "    for i in range(1,n+1):\n",
        "     result = result + math.log(i)\n",
        "    return result"
      ],
      "execution_count": null,
      "outputs": []
    },
    {
      "cell_type": "code",
      "metadata": {
        "deletable": false,
        "editable": false,
        "nbgrader": {
          "cell_type": "code",
          "checksum": "ed752e6aeedba356fe67c78ead50d7bc",
          "grade": true,
          "grade_id": "cell-8d64888b911e9c36",
          "locked": true,
          "points": 1,
          "schema_version": 3,
          "solution": false,
          "task": false
        },
        "id": "tqitSi259kIU",
        "colab": {
          "base_uri": "https://localhost:8080/"
        },
        "outputId": "eb068dea-bf9e-498e-cb15-c14825fa14f9"
      },
      "source": [
        "# --------------------------- RUN THIS TEST CODE CELL -------------------------------------\n",
        "# Q2.1 --- Test your implementation:\n",
        "# ---------------------------\n",
        "print (\"Testing the implementation of the 'logfact2'/'logfact1' function..\\n \")\n",
        "assert logfact2(1,1)== log2(1 ,1) ,\"check your implementation \"\n",
        "print (\"good job!\\nTests passed - 'logfact2' function implementation , there may be hidden tests too\")\n"
      ],
      "execution_count": null,
      "outputs": [
        {
          "output_type": "stream",
          "text": [
            "Testing the implementation of the 'logfact2'/'logfact1' function..\n",
            " \n",
            "good job!\n",
            "Tests passed - 'logfact2' function implementation , there may be hidden tests too\n"
          ],
          "name": "stdout"
        }
      ]
    },
    {
      "cell_type": "markdown",
      "metadata": {
        "deletable": false,
        "editable": false,
        "nbgrader": {
          "cell_type": "markdown",
          "checksum": "225daf1cc5e8596d2e9b719f869b74f1",
          "grade": false,
          "grade_id": "cell-9826f3f348bf79b8",
          "locked": true,
          "schema_version": 3,
          "solution": false,
          "task": false
        },
        "id": "1PGWk6z99kIU"
      },
      "source": [
        "Q2.2A <br>Implement \"binom1\"\n",
        "\n",
        "Use 'logfact1' and math.exp to compute number of permutations\n",
        "<pre> \n",
        "------------\n",
        "Input parameters:\n",
        "- n - number of elements \n",
        "- k - subsets size \n",
        "------------\n",
        "return value:\n",
        "- permutations - number of subsets of size 'k' in n elements (natural number)\n",
        "------------\n",
        "</pre>"
      ]
    },
    {
      "cell_type": "code",
      "metadata": {
        "deletable": false,
        "nbgrader": {
          "cell_type": "code",
          "checksum": "fdd46eba38323a5023252a565ff2b20a",
          "grade": false,
          "grade_id": "cell-1c4b5a91099b1907",
          "locked": false,
          "schema_version": 3,
          "solution": true,
          "task": false
        },
        "id": "7FY0_74I9kIU"
      },
      "source": [
        "def binom1(n,k):\n",
        "   return round(math.exp(logfact1(n)-(logfact1(n-k)+logfact1(k)))) \n"
      ],
      "execution_count": null,
      "outputs": []
    },
    {
      "cell_type": "markdown",
      "metadata": {
        "deletable": false,
        "editable": false,
        "id": "2F63DS99kt0g",
        "nbgrader": {
          "cell_type": "markdown",
          "checksum": "4544e9cd34f83de7a6cfcfe0874dd69a",
          "grade": false,
          "grade_id": "cell-d6a895d5ec8ea96e",
          "locked": true,
          "schema_version": 3,
          "solution": false,
          "task": false
        }
      },
      "source": [
        "Q2.2B <br>Implement \"binom2\"\n",
        "\n",
        "Use 'logfact2' and exp2 from [lecture 1 notebook](https://colab.research.google.com/drive/1-UKYN6p63tcqhPUg2TAUMsaJz0hUv1x0?usp=sharing) notebook to implement approximate computation of the number of subsets of a set ( functions `logfact` and `binom` in the [lecture 0 notebook](https://colab.research.google.com/drive/1D7cfVERYF4oA9tYW46b8TAbEpD1RJ8ow?usp=sharing. )\n",
        "\n",
        "<pre> \n",
        "------------\n",
        "Input parameters:\n",
        "- n - number of elements \n",
        "- k - subsets size \n",
        "- p - numbers of Taylor series\n",
        "------------\n",
        "return value:\n",
        "- permutations - number of subsets of size 'k' in n elements (natural number)\n",
        "------------\n",
        "</pre>"
      ]
    },
    {
      "cell_type": "code",
      "metadata": {
        "id": "q__dBmNVvKzA"
      },
      "source": [
        "def exp(x, n): #exp from lec 1\n",
        "    \"\"\"Computes exp(x) with Taylor series approximation upto x^n.\n",
        "    Returns the approximate value.\n",
        "    \"\"\"\n",
        "    v = 1       # initialize the value to the first term of Taylor series\n",
        "    xi = x      # initialize the ith power of x to x\n",
        "    fact = 1    # initialize fact to 0!\n",
        "    for i in range(1, n+1):\n",
        "        fact *= i       # compute i!\n",
        "        v += xi/fact    # add a term to the Taylor series\n",
        "        xi *= x         # compute the next power of x\n",
        "    return v    # return the result"
      ],
      "execution_count": null,
      "outputs": []
    },
    {
      "cell_type": "code",
      "metadata": {
        "id": "ZL-0WD3KvLRG"
      },
      "source": [
        "def exp2(x, n): #exp2 from lec 2\n",
        "  e = 2.718281828459045\n",
        "  v = 1\n",
        "  if x > 1:\n",
        "    pow = int(x)   # compute the entire part of x\n",
        "    v *= e**pow    # exponentiate the entire part efficiently\n",
        "    x -= pow       # keep only the fractional part of x\n",
        "  elif x < -1:\n",
        "    pow = int(-x)\n",
        "    v /= e**pow\n",
        "    x += pow\n",
        "  v *= exp(x, n)   # multiply the value by the approximate exponent\n",
        "                   # of the fractional part\n",
        "  return v"
      ],
      "execution_count": null,
      "outputs": []
    },
    {
      "cell_type": "code",
      "metadata": {
        "deletable": false,
        "nbgrader": {
          "cell_type": "code",
          "checksum": "03a9af4ecaa64d1cb414cfd04af6bc8d",
          "grade": false,
          "grade_id": "cell-51079643e33e7a5a",
          "locked": false,
          "schema_version": 3,
          "solution": true,
          "task": false
        },
        "id": "vN9GI1Y09kIV"
      },
      "source": [
        "\n",
        "def binom2(n,k,p):\n",
        " return round(exp2((logfact2(n,p)-(logfact2(n-k,p)+logfact2(k,p))),p))\n"
      ],
      "execution_count": null,
      "outputs": []
    },
    {
      "cell_type": "code",
      "metadata": {
        "deletable": false,
        "editable": false,
        "nbgrader": {
          "cell_type": "code",
          "checksum": "13e5c6b906aec131ee4a92cbdab9562e",
          "grade": true,
          "grade_id": "cell-2f838e7a197f7805",
          "locked": true,
          "points": 1,
          "schema_version": 3,
          "solution": false,
          "task": false
        },
        "id": "MJ3aSQZe9kIV",
        "colab": {
          "base_uri": "https://localhost:8080/"
        },
        "outputId": "6ff5e7a4-ba57-4c0d-e937-7591d15b3527"
      },
      "source": [
        "# --------------------------- RUN THIS TEST CODE CELL -------------------------------------\n",
        "# Q2.2 --- Test your implementation:\n",
        "# ---------------------------\n",
        "\n",
        "print (\"Testing the implementation of the 'binom1'/'binom2' function..\\n \")\n",
        "assert binom2(4,3,1)==  4,\"check your implementation \"\n",
        "print (\"good job!\\nTests passed - 'binom1'/'binom2' function implementation , there may be hidden tests too\")\n"
      ],
      "execution_count": null,
      "outputs": [
        {
          "output_type": "stream",
          "text": [
            "Testing the implementation of the 'binom1'/'binom2' function..\n",
            " \n",
            "good job!\n",
            "Tests passed - 'binom1'/'binom2' function implementation , there may be hidden tests too\n"
          ],
          "name": "stdout"
        }
      ]
    },
    {
      "cell_type": "markdown",
      "metadata": {
        "deletable": false,
        "editable": false,
        "nbgrader": {
          "cell_type": "markdown",
          "checksum": "fd653c006a387ed8283bf7cff2ca3ea6",
          "grade": false,
          "grade_id": "cell-ad2eddeb37e5f417",
          "locked": true,
          "schema_version": 3,
          "solution": false,
          "task": false
        },
        "id": "2cgg07dn9kIV"
      },
      "source": [
        "_Q2.3_<br>Compare values and the running times of : <br>\n",
        "`binom2` using ---> `log2` and `exp2` <br>\n",
        "vs <br>\n",
        "`binom` using --> `math.log` and `math.exp`.<br>\n",
        "with the values : <br>\n",
        "`(1, 1)`, `(4, 3)`, and `(1000, 10)`."
      ]
    },
    {
      "cell_type": "code",
      "metadata": {
        "deletable": false,
        "nbgrader": {
          "cell_type": "code",
          "checksum": "fba27745ac80905d7a8047d48d1b7835",
          "grade": true,
          "grade_id": "cell-6d70fcca0cae99cf",
          "locked": false,
          "points": 1,
          "schema_version": 3,
          "solution": true,
          "task": false
        },
        "id": "FsWOdR7x9kIV",
        "colab": {
          "base_uri": "https://localhost:8080/"
        },
        "outputId": "85b919d2-416f-47a2-a63b-8808a5a6feb2"
      },
      "source": [
        "print(\"binom1 results:\")\n",
        "%time print(\"1 out of 1 = %d\" % binom1(1, 1))\n",
        "%time print(\"3 out of 4  = %d\" % binom1(4, 3))\n",
        "%time print(\"10 out of 1000 = %d\" % binom1(1000, 10))\n",
        "print(\"binom2 results:\")\n",
        "%time print(\"1 out of 1 = %d\" % binom2(1, 1,5))\n",
        "%time print(\"3 out of 4  = %d\" % binom2(4, 3,5))\n",
        "%time print(\"10 out of 1000 = %d\" % binom2(1000, 10,5))"
      ],
      "execution_count": null,
      "outputs": [
        {
          "output_type": "stream",
          "text": [
            "binom1 results:\n",
            "1 out of 1 = 1\n",
            "CPU times: user 503 µs, sys: 0 ns, total: 503 µs\n",
            "Wall time: 678 µs\n",
            "3 out of 4  = 4\n",
            "CPU times: user 496 µs, sys: 0 ns, total: 496 µs\n",
            "Wall time: 639 µs\n",
            "10 out of 1000 = 263409560461767849541632\n",
            "CPU times: user 1.14 ms, sys: 22 µs, total: 1.16 ms\n",
            "Wall time: 1.28 ms\n",
            "binom2 results:\n",
            "1 out of 1 = 1\n",
            "CPU times: user 439 µs, sys: 0 ns, total: 439 µs\n",
            "Wall time: 444 µs\n",
            "3 out of 4  = 4\n",
            "CPU times: user 489 µs, sys: 0 ns, total: 489 µs\n",
            "Wall time: 593 µs\n",
            "10 out of 1000 = 250833147237418097704960\n",
            "CPU times: user 9 ms, sys: 599 µs, total: 9.6 ms\n",
            "Wall time: 11 ms\n"
          ],
          "name": "stdout"
        }
      ]
    },
    {
      "cell_type": "markdown",
      "metadata": {
        "deletable": false,
        "editable": false,
        "nbgrader": {
          "cell_type": "markdown",
          "checksum": "78ba7c02690a35fac3150d4b51ab0f42",
          "grade": false,
          "grade_id": "cell-c86bfecbc4c03bf4",
          "locked": true,
          "schema_version": 3,
          "solution": false,
          "task": false
        },
        "id": "9Y0YHn4C9kIV"
      },
      "source": [
        "_Q2.4A_ What are the _relative_ error of `binom2` with 10 Taylor series terms for `comb(1,1)`\n",
        "Implement `relative_error_1_1` that returns your answer.\n",
        "<pre> \n",
        "------------\n",
        "Input parameters:\n",
        "\n",
        "nothing\n",
        "------------\n",
        "return value:\n",
        "\n",
        "your answer as a float\n",
        "------------\n",
        "</pre>"
      ]
    },
    {
      "cell_type": "code",
      "metadata": {
        "id": "jMmw3eub-C4j"
      },
      "source": [
        "def fact(n): #comb from lec 0\n",
        "  fct = 1\n",
        "  for i in range(n):\n",
        "    fct *= i+1\n",
        "  return fct\n",
        "\n",
        "def comb(n, k):\n",
        "  return fact(n)//(fact(k)*fact(n - k))"
      ],
      "execution_count": null,
      "outputs": []
    },
    {
      "cell_type": "code",
      "metadata": {
        "deletable": false,
        "nbgrader": {
          "cell_type": "code",
          "checksum": "1b9102e7cb9829bdaccf672e7def7d6a",
          "grade": false,
          "grade_id": "cell-0a1b65aa0584f25e",
          "locked": false,
          "schema_version": 3,
          "solution": true,
          "task": false
        },
        "id": "wu0p6tnL9kIV"
      },
      "source": [
        "def relative_error_1_1():\n",
        "    return float(abs(binom2(1,1,10)-comb(1,1))/comb(1,1)*100)"
      ],
      "execution_count": null,
      "outputs": []
    },
    {
      "cell_type": "code",
      "metadata": {
        "deletable": false,
        "editable": false,
        "nbgrader": {
          "cell_type": "code",
          "checksum": "d5355df110b817a7528a2109d43eb691",
          "grade": true,
          "grade_id": "cell-717724a4ba3956e2",
          "locked": true,
          "points": 1,
          "schema_version": 3,
          "solution": false,
          "task": false
        },
        "id": "RibCoi059kIW",
        "colab": {
          "base_uri": "https://localhost:8080/"
        },
        "outputId": "abd1a748-7ed0-4c21-eab1-de0b8909e901"
      },
      "source": [
        "# --------------------------- RUN THIS TEST CODE CELL -------------------------------------\n",
        "# Q2.4A --- Test your implementation:\n",
        "# ---------------------------\n",
        "print (\"Test 2 - Testing the implementation of the 'relative_error_1_1' function..\\n \")\n",
        "assert type(relative_error_1_1()) is float ,\"check that your return value is float\"\n",
        "print (\"good job!\\nTests passed - 'relative_error_1_1' function implementation , there may be hidden tests too\")\n"
      ],
      "execution_count": null,
      "outputs": [
        {
          "output_type": "stream",
          "text": [
            "Test 2 - Testing the implementation of the 'relative_error_1_1' function..\n",
            " \n",
            "good job!\n",
            "Tests passed - 'relative_error_1_1' function implementation , there may be hidden tests too\n"
          ],
          "name": "stdout"
        }
      ]
    },
    {
      "cell_type": "markdown",
      "metadata": {
        "deletable": false,
        "editable": false,
        "nbgrader": {
          "cell_type": "markdown",
          "checksum": "f21ff2ae95ebe4edf868e1128d20b302",
          "grade": false,
          "grade_id": "cell-376a77447d936547",
          "locked": true,
          "schema_version": 3,
          "solution": false,
          "task": false
        },
        "id": "8Y9h_DGY9kIW"
      },
      "source": [
        "_Q2.4B_<br> What are the _relative_ error of `binom2` with 10 Taylor series terms for `comb(4, 3)`\n",
        "Implement `relative_error_4_3` that returns your answer.\n",
        "<pre> \n",
        "------------\n",
        "Input parameters:\n",
        "\n",
        "nothing\n",
        "------------\n",
        "return value:\n",
        "\n",
        "your answer as a float\n",
        "------------\n",
        "</pre>"
      ]
    },
    {
      "cell_type": "code",
      "metadata": {
        "deletable": false,
        "nbgrader": {
          "cell_type": "code",
          "checksum": "f40e01ff684253be24e2a8d513aecef4",
          "grade": false,
          "grade_id": "cell-afb651e8c0332098",
          "locked": false,
          "schema_version": 3,
          "solution": true,
          "task": false
        },
        "id": "yZJOOw_Z9kIW"
      },
      "source": [
        "def relative_error_4_3():\n",
        "    return float(abs((binom2(4,3,10)-comb(4,3)))/comb(4,3)*100)"
      ],
      "execution_count": null,
      "outputs": []
    },
    {
      "cell_type": "code",
      "metadata": {
        "deletable": false,
        "editable": false,
        "nbgrader": {
          "cell_type": "code",
          "checksum": "daaebbede24409483b9fddbf80e54324",
          "grade": true,
          "grade_id": "cell-8eb943adbd279201",
          "locked": true,
          "points": 1,
          "schema_version": 3,
          "solution": false,
          "task": false
        },
        "id": "CMLOLq1g9kIW",
        "colab": {
          "base_uri": "https://localhost:8080/"
        },
        "outputId": "71732b79-ff9d-40a0-b044-88466a9f400d"
      },
      "source": [
        "# --------------------------- RUN THIS TEST CODE CELL -------------------------------------\n",
        "# Q2.4B --- Test your implementation:\n",
        "# ---------------------------\n",
        "print (\"Testing the implementation of the 'relative_error_4_3' function..\\n \")\n",
        "assert type(relative_error_4_3()) is float ,\"check that your return value is float\"\n",
        "print (\"good job!\\nTests passed - 'relative_error_4_3' function implementation , there may be hidden tests too\")\n"
      ],
      "execution_count": null,
      "outputs": [
        {
          "output_type": "stream",
          "text": [
            "Testing the implementation of the 'relative_error_4_3' function..\n",
            " \n",
            "0.0\n",
            "good job!\n",
            "Tests passed - 'relative_error_4_3' function implementation , there may be hidden tests too\n"
          ],
          "name": "stdout"
        }
      ]
    },
    {
      "cell_type": "markdown",
      "metadata": {
        "deletable": false,
        "editable": false,
        "nbgrader": {
          "cell_type": "markdown",
          "checksum": "6ceedef852a5197a963ca2bd9da59d62",
          "grade": false,
          "grade_id": "cell-baefb680318bb303",
          "locked": true,
          "schema_version": 3,
          "solution": false,
          "task": false
        },
        "id": "ZnpdX10m9kIW"
      },
      "source": [
        "_Q2.4C_<br> What are the _relative_ error of `binom2` with 10 Taylor series terms for `comb(1000, 10)`\n",
        "Implement `relative_error_1000_10` that returns your answer.\n",
        "<pre> \n",
        "------------\n",
        "Input parameters:\n",
        "\n",
        "nothing\n",
        "------------\n",
        "return value:\n",
        "\n",
        "your answer as a float\n",
        "------------\n",
        "</pre>"
      ]
    },
    {
      "cell_type": "code",
      "metadata": {
        "deletable": false,
        "nbgrader": {
          "cell_type": "code",
          "checksum": "bdc45d443fcf9f787dd88324f0c3eece",
          "grade": false,
          "grade_id": "cell-9f6c018365466187",
          "locked": false,
          "schema_version": 3,
          "solution": true,
          "task": false
        },
        "id": "BpBxkw2L9kIW"
      },
      "source": [
        "def relative_error_1000_10():\n",
        "     return float(abs((binom2(1000,10,10)-comb(1000,10)))/comb(1000,10)*100)"
      ],
      "execution_count": null,
      "outputs": []
    },
    {
      "cell_type": "code",
      "metadata": {
        "deletable": false,
        "editable": false,
        "nbgrader": {
          "cell_type": "code",
          "checksum": "9de2a2488e8ddc16c164197fe7d0c297",
          "grade": true,
          "grade_id": "cell-a48e31d8eeb70d06",
          "locked": true,
          "points": 1,
          "schema_version": 3,
          "solution": false,
          "task": false
        },
        "id": "mpO7vMmt9kIX",
        "colab": {
          "base_uri": "https://localhost:8080/"
        },
        "outputId": "d162ad47-54a3-44a0-bab0-c73d321cfa85"
      },
      "source": [
        "# --------------------------- RUN THIS TEST CODE CELL -------------------------------------\n",
        "# _Q2.4C_ --- Test your implementation:\n",
        "# ---------------------------\n",
        "print (\"Testing the implementation of the 'relative_error_1000_10' function..\\n \")\n",
        "assert type(relative_error_1000_10()) is float ,\"check that your return value is float\"\n",
        "print (\"good job!\\nTests passed - 'relative_error_1000_10' function implementation , there may be hidden tests too\")\n"
      ],
      "execution_count": null,
      "outputs": [
        {
          "output_type": "stream",
          "text": [
            "Testing the implementation of the 'relative_error_1000_10' function..\n",
            " \n",
            "0.0018032351782977366\n",
            "good job!\n",
            "Tests passed - 'relative_error_1000_10' function implementation , there may be hidden tests too\n"
          ],
          "name": "stdout"
        }
      ]
    },
    {
      "cell_type": "markdown",
      "metadata": {
        "deletable": false,
        "editable": false,
        "nbgrader": {
          "cell_type": "markdown",
          "checksum": "e00dc5c89d9b7635b1e56addcd8f54f7",
          "grade": false,
          "grade_id": "cell-0194511dbea504f1",
          "locked": true,
          "schema_version": 3,
          "solution": false,
          "task": false
        },
        "id": "b6WvRPWA9kIX"
      },
      "source": [
        "_Q2.5_<br> What is the minimal number of Taylor series terms in `binom2` that required to get to error of 0.03% with `comb(1000,10)` from [lecture 0 notebook](https://colab.research.google.com/drive/1D7cfVERYF4oA9tYW46b8TAbEpD1RJ8ow?usp=sharing).?<br>\n",
        "Implement `Q2_5_answer` function that returns your answer.\n",
        "<pre> \n",
        "------------\n",
        "Input parameters:\n",
        "\n",
        "nothing\n",
        "------------\n",
        "return value:\n",
        "\n",
        "your answer as an int\n",
        "------------\n",
        "</pre>"
      ]
    },
    {
      "cell_type": "code",
      "metadata": {
        "deletable": false,
        "nbgrader": {
          "cell_type": "code",
          "checksum": "685975dc74ba5dd64bf5354b6fc6b919",
          "grade": false,
          "grade_id": "cell-3b191052a973c63f",
          "locked": false,
          "schema_version": 3,
          "solution": true,
          "task": false
        },
        "id": "zfFlOwfS9kIX"
      },
      "source": [
        "def Q2_5_answer():\n",
        "   answer = 1\n",
        "   while(abs((binom2(1000,10,answer)-comb(1000,10)))/comb(1000,10)*100>=0.03):\n",
        "    answer = answer + 1 \n",
        "   return answer\n",
        "    "
      ],
      "execution_count": null,
      "outputs": []
    },
    {
      "cell_type": "markdown",
      "metadata": {
        "id": "wFHtnvkGDuCJ"
      },
      "source": [
        ""
      ]
    },
    {
      "cell_type": "code",
      "metadata": {
        "deletable": false,
        "editable": false,
        "nbgrader": {
          "cell_type": "code",
          "checksum": "fd3bdf21e84a286531bdb6a586090288",
          "grade": true,
          "grade_id": "cell-fc59630341fcae34",
          "locked": true,
          "points": 1,
          "schema_version": 3,
          "solution": false,
          "task": false
        },
        "id": "EMKk5ALw9kIX",
        "colab": {
          "base_uri": "https://localhost:8080/"
        },
        "outputId": "3fafe417-3e54-4f7c-ff9d-70d395b48a8c"
      },
      "source": [
        "# --------------------------- RUN THIS TEST CODE CELL -------------------------------------\n",
        "# Q2.5 --- Test your implementation:\n",
        "# ---------------------------\n",
        "Q2_5_answer()\n",
        "print (\"------hidden tests cell------\")"
      ],
      "execution_count": null,
      "outputs": [
        {
          "output_type": "stream",
          "text": [
            "13\n",
            "------hidden tests cell------\n"
          ],
          "name": "stdout"
        }
      ]
    }
  ]
}