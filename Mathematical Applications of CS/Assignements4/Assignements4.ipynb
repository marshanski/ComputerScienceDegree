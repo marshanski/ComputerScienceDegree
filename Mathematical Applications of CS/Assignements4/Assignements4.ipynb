{
  "nbformat": 4,
  "nbformat_minor": 0,
  "metadata": {
    "kernelspec": {
      "name": "python3",
      "display_name": "Python 3"
    },
    "colab": {
      "name": "Copy of hw4.ipynb",
      "provenance": [],
      "collapsed_sections": []
    }
  },
  "cells": [
    {
      "cell_type": "markdown",
      "metadata": {
        "id": "nuCFdN40kD3N"
      },
      "source": [
        "\n",
        "\n",
        "```\n",
        "# This is formatted as code\n",
        "```\n",
        "\n",
        "# Assignment 4: Differentiation and optimization"
      ]
    },
    {
      "cell_type": "code",
      "metadata": {
        "id": "EbQdRNfPkD3N"
      },
      "source": [
        "import sympy as sym \n",
        "import jax.numpy as np\n",
        "import matplotlib.pyplot as plt\n",
        "import math\n",
        "import random\n",
        "import math"
      ],
      "execution_count": 100,
      "outputs": []
    },
    {
      "cell_type": "markdown",
      "metadata": {
        "id": "0NFDA3uFHcf_"
      },
      "source": [
        "## Question 1: Differentiations\n",
        "\n",
        "Function \n",
        "\n",
        "$$f(a, b) = \\frac a b cos(a)^2 \\exp \\left( - \\frac {a^2} {b^2}\\right)$$\n",
        "\n",
        "is given."
      ]
    },
    {
      "cell_type": "markdown",
      "metadata": {
        "id": "CvlvWUY1WdMZ"
      },
      "source": [
        "1. Derive the partial derivatives of $f(a, b)$ by $a$ and $b$. (Write them in this text)\n",
        "\n",
        "    $$\\frac {\\partial f} {\\partial a} = \n",
        "    \\exp \\left( - \\frac {a^2} {b^2}\\right) cos(a) ( \\frac {2b^2asin(a)+(2a^2-b^2)cos(a)} {b^3})$$\n",
        "    $$\\frac {\\partial f} {\\partial b} = acos(a)^2( \\frac {2a^2-b^2} {b^4}) \\exp \\left( - \\frac {a^2} {b^2}\\right) $$"
      ]
    },
    {
      "cell_type": "markdown",
      "metadata": {
        "id": "teHG_JS4ZE9s"
      },
      "source": [
        "2. Implement the derivatives as Python functions:\n",
        "  1. According to symbolic expressions. (print the expressions)\n",
        "  2. Using algorithmic differentiation (with `jax`).\n",
        "      * For a two variable function, $ f(a,b) $, its gradients by $x$ and $y$ can be obtained like this: df_dxy = jax.grad(f, argnums=(0, 1)). The x, and y derivatives are then: df_dxy[0] = df_dx, and df_dxy[1] = df_dy.\n",
        "\n",
        "$-$\n",
        "\n",
        "  \n",
        "Compare the accuracy of symbolic and algorithmic differentiation:\n",
        "\n",
        "\n",
        "1.   Choose a number of points in the range: $a\\in(-20, 20)$, and $b\\in(1, 100)$.\n",
        "2.   Calculate the squared error between simbolic and algorithmic differentiation for each set of points $(a,b)$.\n",
        "3. Average all the errors. (print the average error obtained)\n",
        "\n"
      ]
    },
    {
      "cell_type": "code",
      "metadata": {
        "id": "vJV-ytPHZJRR"
      },
      "source": [
        "def function(a,b):\n",
        "  return (a/b)*sym.cos(a)**2*sym.exp(-(a**2)/b**2)\n",
        "  \n",
        "\n",
        "def f_partial_derviatives_symbol_a(a, b):\n",
        "  f   = function(a,b)\n",
        "  return sym.diff(f,a)\n",
        "    \n",
        "\n",
        "def f_partial_derviatives_symbol_b(a, b):\n",
        "  f   = function(a,b)\n",
        "  return sym.diff(f,b)\n",
        "    "
      ],
      "execution_count": 101,
      "outputs": []
    },
    {
      "cell_type": "code",
      "source": [
        "a = sym.Symbol('a')\n",
        "b = sym.Symbol('b')\n",
        "f_partial_derviatives_symbol_a(a,b)\n"
      ],
      "metadata": {
        "colab": {
          "base_uri": "https://localhost:8080/",
          "height": 61
        },
        "id": "mfhFepm9eaxF",
        "outputId": "0a0c337a-4594-42fd-d5ef-2f1fe0994c50"
      },
      "execution_count": 102,
      "outputs": [
        {
          "output_type": "execute_result",
          "data": {
            "text/plain": [
              "-2*a**2*exp(-a**2/b**2)*cos(a)**2/b**3 - 2*a*exp(-a**2/b**2)*sin(a)*cos(a)/b + exp(-a**2/b**2)*cos(a)**2/b"
            ],
            "text/latex": "$\\displaystyle - \\frac{2 a^{2} e^{- \\frac{a^{2}}{b^{2}}} \\cos^{2}{\\left(a \\right)}}{b^{3}} - \\frac{2 a e^{- \\frac{a^{2}}{b^{2}}} \\sin{\\left(a \\right)} \\cos{\\left(a \\right)}}{b} + \\frac{e^{- \\frac{a^{2}}{b^{2}}} \\cos^{2}{\\left(a \\right)}}{b}$"
          },
          "metadata": {},
          "execution_count": 102
        }
      ]
    },
    {
      "cell_type": "code",
      "source": [
        "f_partial_derviatives_symbol_b(a,b)"
      ],
      "metadata": {
        "colab": {
          "base_uri": "https://localhost:8080/",
          "height": 61
        },
        "id": "tAIZ8YxGfrah",
        "outputId": "7365ce15-9745-4a16-9669-a0feb12d640d"
      },
      "execution_count": 103,
      "outputs": [
        {
          "output_type": "execute_result",
          "data": {
            "text/plain": [
              "2*a**3*exp(-a**2/b**2)*cos(a)**2/b**4 - a*exp(-a**2/b**2)*cos(a)**2/b**2"
            ],
            "text/latex": "$\\displaystyle \\frac{2 a^{3} e^{- \\frac{a^{2}}{b^{2}}} \\cos^{2}{\\left(a \\right)}}{b^{4}} - \\frac{a e^{- \\frac{a^{2}}{b^{2}}} \\cos^{2}{\\left(a \\right)}}{b^{2}}$"
          },
          "metadata": {},
          "execution_count": 103
        }
      ]
    },
    {
      "cell_type": "code",
      "source": [
        "def algo_function(a,b):\n",
        "  return (a/b)*np.cos(a)**2*np.exp(-(a**2)/b**2)\n",
        "\n",
        "def f_partial_derviatives_algo_a():\n",
        "  return jax.grad(algo_function,argnums=(0))\n",
        "\n",
        "def f_partial_derviatives_algo_b():\n",
        "  return jax.grad(algo_function,argnums=(1))\n",
        "  \n"
      ],
      "metadata": {
        "id": "-jRh-i-_dq5R"
      },
      "execution_count": 5,
      "outputs": []
    },
    {
      "cell_type": "code",
      "source": [
        "dfa       = f_partial_derviatives_algo_a()\n",
        "dfb       = f_partial_derviatives_algo_b()\n",
        "symb_a    = f_partial_derviatives_symbol_a(a,b)\n",
        "symb_b    = f_partial_derviatives_symbol_b(a,b)\n",
        "\n",
        "ap        = np.linspace(-20, 20, 100)\n",
        "bp        = np.linspace(1, 100, 100)\n",
        "avarage_a = 0\n",
        "avarage_b = 0\n",
        "\n",
        "for i in range (100):\n",
        "  err_a     = (symb_a.evalf(subs ={a:ap[i],b:bp[i]}) - dfa(ap[i],bp[i]))**2\n",
        "  avarage_a = avarage_a + err_a\n",
        "\n",
        "  err_b     = (symb_b.evalf(subs ={a:ap[i],b:bp[i]}) - dfb(ap[i],bp[i]))**2\n",
        "  avarage_b = avarage_b + err_b\n",
        "\n",
        "print(avarage_a/100)\n",
        "print(avarage_b/100)\n"
      ],
      "metadata": {
        "colab": {
          "base_uri": "https://localhost:8080/"
        },
        "id": "L6QjcOzIil1q",
        "outputId": "01e215f3-8376-4e15-f99a-168c4ab53e88"
      },
      "execution_count": 104,
      "outputs": [
        {
          "output_type": "stream",
          "name": "stdout",
          "text": [
            "1.02650530702604e-16\n",
            "1.00133410322364e-18\n"
          ]
        }
      ]
    },
    {
      "cell_type": "markdown",
      "metadata": {
        "id": "K95Vz9uTWzv5"
      },
      "source": [
        "3. Plot \n",
        "  * $f(a, 10)$, $\\frac {\\partial f(a, 10)} {\\partial a}$ for range $a \\in [-20, 20]$, \n",
        "  * $f(10, b)$, $\\frac {\\partial f(10, b)} {\\partial b}$ for range $b \\in 1, 100$."
      ]
    },
    {
      "cell_type": "code",
      "metadata": {
        "id": "nKErhdqUYhw6",
        "outputId": "fb2331bf-b93c-4131-a360-cee1c07877fd",
        "colab": {
          "base_uri": "https://localhost:8080/",
          "height": 317
        }
      },
      "source": [
        "\n",
        "\n",
        "fig,(g1,g2) = plt.subplots(2)\n",
        "f1 = plt.figure()\n",
        "f2 = plt.figure()\n",
        "\n",
        "a = np.linspace(-20, 20, 1000)\n",
        "g1.plot(a, [function(a,10) for a in a], label=\"f(a,10)\") \n",
        "g1.plot(a, [dfa(a,10) for a in a], label=\"∂f(a,10)/∂a\")\n",
        "g1.legend()\n",
        "\n",
        "\n",
        "b = np.linspace(1, 100, 1000)\n",
        "g2.plot(b, [function(10,b) for b in b], label=\"f(10,b)\")\n",
        "g2.plot(b, [dfb(10,b) for b in b], label=\"∂f(10,b)/∂b\")\n",
        "g2.legend()\n"
      ],
      "execution_count": 105,
      "outputs": [
        {
          "output_type": "execute_result",
          "data": {
            "text/plain": [
              "<matplotlib.legend.Legend at 0x7fcc700bb510>"
            ]
          },
          "metadata": {},
          "execution_count": 105
        },
        {
          "output_type": "display_data",
          "data": {
            "text/plain": [
              "<Figure size 432x288 with 2 Axes>"
            ],
            "image/png": "[encoded data removed]"
          },
          "metadata": {
            "needs_background": "light"
          }
        },
        {
          "output_type": "display_data",
          "data": {
            "text/plain": [
              "<Figure size 432x288 with 0 Axes>"
            ]
          },
          "metadata": {}
        },
        {
          "output_type": "display_data",
          "data": {
            "text/plain": [
              "<Figure size 432x288 with 0 Axes>"
            ]
          },
          "metadata": {}
        }
      ]
    },
    {
      "cell_type": "markdown",
      "metadata": {
        "id": "ZT8qvZtLZVpr"
      },
      "source": [
        "4. Implement a function for approximate numerical differentiation, given the difference size $h$."
      ]
    },
    {
      "cell_type": "code",
      "metadata": {
        "id": "Xiylvd_FZnjB"
      },
      "source": [
        "def function_accurcy_with_math(a,b):\n",
        "   return (a/b)*np.cos(a)*np.cos(a)*np.exp(-(a*a)/(b*b))\n",
        "   \n",
        "def diff_a(a, b, h):   \n",
        "    return (function_accurcy_with_math(a+h,b) - function_accurcy_with_math(a,b))/h\n",
        "\n",
        "def diff_b(a, b, h):       \n",
        "    return (function_accurcy_with_math(a,b+h) - function_accurcy_with_math(a,b))/h\n"
      ],
      "execution_count": 106,
      "outputs": []
    },
    {
      "cell_type": "markdown",
      "metadata": {
        "id": "NvamVGzCZzeT"
      },
      "source": [
        "5. Find the best difference size $h$ for differentiating\n",
        "   * $f(3, 10)$ by $a$.\n",
        "   * $f(1, 1)$ by $b$.\n",
        "\n",
        "(Print the best step size, the derivative obtained and the difference between the numerical and the exact (algorithmic or symbolic) derivatives)\n",
        "\n",
        "The best difference size minimizes the error of numerical differentiation relative to the exact differentiation.\n",
        "\n",
        "Note: In this excercise it is recommended to use gradient descent, however a simple search is also accepted.\n"
      ]
    },
    {
      "cell_type": "code",
      "source": [
        "def best_diff_a():\n",
        "  h    = 1.0\n",
        "  err1 = abs(diff_a(3.0,10.0,h) - dfa(3.0,10.0))\n",
        "  err2 = err1\n",
        "  while err1>=err2 and h>0:\n",
        "    h = h*0.9\n",
        "    err1 = err2\n",
        "    err2 = abs(diff_a(3.0,10.0,h) - dfa(3.0,10.0))\n",
        "  return h/0.9"
      ],
      "metadata": {
        "id": "gyoyX1fuPA2C"
      },
      "execution_count": 108,
      "outputs": []
    },
    {
      "cell_type": "code",
      "metadata": {
        "id": "A-_-Mpn1aHuL"
      },
      "source": [
        "def best_diff_b():\n",
        "  h = 1.0\n",
        "  err1 = abs(diff_b(1.0,1.0,h) - dfb(1.0,1.0))\n",
        "  err2 = err1\n",
        "  while err1>=err2 and h>0:\n",
        "    h = h*0.9\n",
        "    err1 = err2\n",
        "    err2 = abs(diff_b(1.0,1.0,h)- dfb(1.0,1.0))\n",
        "  return h/0.9"
      ],
      "execution_count": 109,
      "outputs": []
    },
    {
      "cell_type": "code",
      "source": [
        "\n",
        "stepA       = best_diff_a()\n",
        "stepB       = best_diff_b()\n",
        "\n",
        "derivativeA = diff_a(3.0,10.0,stepA)\n",
        "derivativeB = diff_b(1.0,1.0,stepB)\n",
        "\n",
        "difA        = abs(derivativeA - dfa(3.0,10.0))\n",
        "difB        = abs(derivativeB - dfb(1.0,1.0))\n",
        "\n",
        "print(\"The best step for f(3,10) by a is \", stepA, \", the derivative is \", derivativeA, \", and the difference is \",difA)\n",
        "print(\"The best step for f(1,1) by b is \", stepB, \", the derivative is \", derivativeB, \", and the difference is \",difB)\n"
      ],
      "metadata": {
        "colab": {
          "base_uri": "https://localhost:8080/"
        },
        "id": "1R1Tte08PpxT",
        "outputId": "e7705c37-4d80-4dd8-a46f-c851594d2a7e"
      },
      "execution_count": 110,
      "outputs": [
        {
          "output_type": "stream",
          "name": "stdout",
          "text": [
            "The best step for f(3,10) by a is  0.0005075287860564164 , the derivative is  0.14997205 , and the difference is  8.779764e-05\n",
            "The best step for f(1,1) by b is  0.0005639208733960182 , the derivative is  0.107255846 , and the difference is  0.00013794005\n"
          ]
        }
      ]
    },
    {
      "cell_type": "markdown",
      "metadata": {
        "id": "mKLhu3Z9a3D5"
      },
      "source": [
        "## Question 2: Optimization\n",
        "\n",
        "### Logistic regression\n",
        "\n",
        "Logistic regression is a statiscal model that models the probability of an event happening. In binary logistic regression there is a single binary dependent variable coded by '0' or '1'.\n",
        "\n",
        "We can express the data as a tuple $(x,y)=(data,outcome)=(x,0/1)$\n",
        "\n",
        "To model the probability of event $x$, we can use the logistic function $p(x)=\\frac{1}{1+e^{-(x-\\mu)/s}}$.\n",
        "\n",
        "To find the appropiate $\\mu$, that maximizes the classifaction accuracy we minimize the loss function $-\\sum_{i=1}^N (y_i \\log p(x_i) + (1 - y_i) \\log (1 - p(x_i)))$.\n",
        "\n",
        "In some cases, we give more importance to correctly classify one event over an other (like contracting an illness over not contracting it), and one way to express this is to add a \"fixing parameter\" in the loss function. One way this can be achieved is by adding weights: $-\\sum_{i=1}^N (W_1y_i \\log p(x_i) + W_2(1 - y_i) \\log (1 - p(x_i)))$.\n"
      ]
    },
    {
      "cell_type": "markdown",
      "source": [
        "For a trial group of 20 rats, ratio of time exposed to a virus and the event of contracting that virus are given as a list of pairs (ratio, illness) (1 corresponds to having the illness):"
      ],
      "metadata": {
        "id": "eExKcFRWmh-T"
      }
    },
    {
      "cell_type": "code",
      "metadata": {
        "id": "5VHUHiJSbDZg"
      },
      "source": [
        "rats = [(0.47, 0), (0.23, 0), (0.86, 1), (0.22, 0), (0.21, 1),\n",
        "        (0.31, 0), (0.62, 0), (0.941, 1), (0.27, 0), (0.35, 1),\n",
        "        (0.18, 0), (0.13, 0), (0.31, 1), (0.99, 1), (0.85, 1), \n",
        "        (0.35, 1), (0.6, 1), (0.89, 0), (0.6, 1), (0.92, 0)]"
      ],
      "execution_count": 111,
      "outputs": []
    },
    {
      "cell_type": "markdown",
      "metadata": {
        "id": "hNnmQ8d2fAOl"
      },
      "source": [
        "We want to predict rat illness based on the ratio of exposure to a virus. The prediction function is\n",
        "\n",
        "$$illness = ratio \\ge threshold.$$\n",
        "\n",
        "The loss for this _classification_ problem is:\n",
        "\n",
        "\\begin{aligned}\n",
        "& L = -\\sum_{i=1}^N (W_1illness_i \\log p_i + W_2(1 - illness_i) \\log (1 - p_i)) \\\\\n",
        "\\mbox{where} & \\\\\n",
        "& p_i = \\frac 1 {1 + \\exp(threshold - ratio_i)}\n",
        "\\\\~\\\\\n",
        "\\mbox{and } &W_{1}, W_{2} \\mbox{ are weights}\n",
        "\\end{aligned}"
      ]
    },
    {
      "cell_type": "markdown",
      "metadata": {
        "id": "Ky3bsw8EgZsJ"
      },
      "source": [
        "1. Implement the loss as a function of the threshold, and weights."
      ]
    },
    {
      "cell_type": "code",
      "source": [
        "ratio  = [x[0] for x in rats]\n",
        "illnes = [x[1] for x in rats]"
      ],
      "metadata": {
        "id": "q9_bY9IrsX1W"
      },
      "execution_count": 112,
      "outputs": []
    },
    {
      "cell_type": "code",
      "metadata": {
        "id": "LZjJjUUWghq-"
      },
      "source": [
        "def rats_classification_loss(threshold, data=rats):   \n",
        "    sum = 0\n",
        "    for i in range(len(data)):\n",
        "      ratio_i   = (data[i])[0]\n",
        "      illness_i = (data[i])[1]\n",
        "      p_i       = 1/(1+np.exp(threshold- (ratio_i/100))) \n",
        "      sum       = sum + illness_i*np.log(p_i) + (1-illness_i)*np.log(1-p_i)\n",
        "    return -1*sum "
      ],
      "execution_count": 113,
      "outputs": []
    },
    {
      "cell_type": "markdown",
      "metadata": {
        "id": "j22eKFdKgkti"
      },
      "source": [
        "2. Plot the loss and the derivative of the loss by the threshold in the range $threshold \\in (0.01, 0.99)$, and $ W_1, W_2 = 1$."
      ]
    },
    {
      "cell_type": "code",
      "metadata": {
        "id": "aFAjQG9Ug052",
        "colab": {
          "base_uri": "https://localhost:8080/",
          "height": 282
        },
        "outputId": "bea61361-7279-41e8-faea-fc345d39ee15"
      },
      "source": [
        "def rats_classification_loss_deriv(threshold):\n",
        "    df = jax.grad(rats_classification_loss)\n",
        "    return df(threshold)\n",
        "\n",
        "df_loss = jax.grad(rats_classification_loss)   \n",
        "x       = np.linspace(0.01,0.99,100,False)    \n",
        "plt.plot(x, [rats_classification_loss(x) for x in x], label=\"loss\")\n",
        "plt.plot(x, [df_loss(x) for x in x], label=\"df_lossx\")\n",
        "plt.legend()\n"
      ],
      "execution_count": 114,
      "outputs": [
        {
          "output_type": "execute_result",
          "data": {
            "text/plain": [
              "<matplotlib.legend.Legend at 0x7fcc6e9686d0>"
            ]
          },
          "metadata": {},
          "execution_count": 114
        },
        {
          "output_type": "display_data",
          "data": {
            "text/plain": [
              "<Figure size 432x288 with 1 Axes>"
            ],
            "image/png": "[encoded data removed]"
          },
          "metadata": {
            "needs_background": "light"
          }
        }
      ]
    },
    {
      "cell_type": "markdown",
      "metadata": {
        "id": "TIxEbOEdhBKf"
      },
      "source": [
        "3. Find the best threshold using gradient descent, and $ W_1, W_2$ such that the number of true positives (rats which have the illness and were correctly classified) is greater than $80\\%$, but the number of false positives ( rats which dont have the illness and were misclassified) is not $100\\%$. (Note: you can fix $W_2$ to be 1)"
      ]
    },
    {
      "cell_type": "code",
      "source": [
        "def p(treshold, ratio):\n",
        "  return (1/(1+np.exp(treshold-ratio)))"
      ],
      "metadata": {
        "id": "4hTJ45askVg1"
      },
      "execution_count": 116,
      "outputs": []
    },
    {
      "cell_type": "code",
      "metadata": {
        "id": "Q0MMAREahDrT"
      },
      "source": [
        "def gd(x0,w1,w2=1,step=0.1,decay=0.95,niter=30):\n",
        "  df  = jax.grad(loss)\n",
        "  x   = x0\n",
        "  \n",
        "  for i in range(niter):\n",
        "    x    -= df(x,w1,w2)*step\n",
        "    step *= decay\n",
        "  return x\n",
        "\n",
        "def loss(treshold, w1, w2):\n",
        "  L = 0\n",
        "  for i in range(20):\n",
        "    L += w1*illnes[i]*np.log(p(treshold, ratio[i])) + w2*(1-illnes[i])*np.log(1-p(treshold, ratio[i]))\n",
        "  return -L"
      ],
      "execution_count": 117,
      "outputs": []
    },
    {
      "cell_type": "code",
      "source": [
        "def find_tresh_n_w1():\n",
        "\n",
        "  positive = 10\n",
        "  w1       = np.linspace(1,2,20)\n",
        "\n",
        "  for w in w1:\n",
        "    true_positive  = 0\n",
        "    false_positive = 0\n",
        "    treshold       = gd(0.1*(random.random()-0.5), w)\n",
        "\n",
        "    for i in range(20):\n",
        "      if (ratio[i]>treshold):\n",
        "\n",
        "        if (illnes[i] == 0):\n",
        "          false_positive += 1\n",
        "        else:\n",
        "          true_positive += 1\n",
        "    \n",
        "    if true_positive/positive >= 0.8 and false_positive != 10:\n",
        "      return (treshold, w)\n",
        "  \n",
        "  return null\n",
        "\n",
        "(treshold, w1) = find_tresh_n_w1()\n",
        "print(\"The best treshold is\", treshold, \", with w1=\", w1, \" and w2=1\")\n"
      ],
      "metadata": {
        "id": "9_CCokzOOzm3",
        "colab": {
          "base_uri": "https://localhost:8080/"
        },
        "outputId": "d8be0fd4-85f1-4ca5-c0c2-280086b296ac"
      },
      "execution_count": 118,
      "outputs": [
        {
          "output_type": "stream",
          "name": "stdout",
          "text": [
            "The best treshold is 0.3280216 , with w1= 1.2105262  and w2=1\n"
          ]
        }
      ]
    },
    {
      "cell_type": "markdown",
      "metadata": {
        "id": "zvD-L4rnhGCN"
      },
      "source": [
        "4. Find the best threshold using Newton's method, given $W_1, W_2$ from previous question. (Newton's method was explained in class). How many iterations were needed?"
      ]
    },
    {
      "cell_type": "code",
      "source": [
        "W1   = 1.2105262\n",
        "W2   = 1\n"
      ],
      "metadata": {
        "id": "t4Q9psBZX_Rt"
      },
      "execution_count": 119,
      "outputs": []
    },
    {
      "cell_type": "code",
      "metadata": {
        "id": "MkF9ML7ohIR4",
        "colab": {
          "base_uri": "https://localhost:8080/"
        },
        "outputId": "c99edadf-3f06-4973-f001-dacef6d954d1"
      },
      "source": [
        "def newton(tres,w1=W1,w2=W2, niter=10):\n",
        "  df   = jax.grad(loss)\n",
        "  ddf  = jax.grad(df)\n",
        "  x    = tres\n",
        "  iter = 0\n",
        "  for i in range(niter):\n",
        "    x = x - df(x,w1,w2)/ddf(x,w1,w2)\n",
        "    \n",
        "  return x\n",
        "\n",
        "treshold = newton(0.1*(random.random()-0.5))\n",
        "print(treshold)\n",
        "print(\"The number of iterations is: 10\")"
      ],
      "execution_count": 120,
      "outputs": [
        {
          "output_type": "stream",
          "name": "stdout",
          "text": [
            "0.32803202\n",
            "The number of iterations is: 10\n"
          ]
        }
      ]
    },
    {
      "cell_type": "markdown",
      "metadata": {
        "id": "J17VCw3jlFWm"
      },
      "source": [
        "5. Show actual vs. predicted recoveries as a scatter plot for the best threshold. How many recoveries were misclassified?"
      ]
    },
    {
      "cell_type": "code",
      "metadata": {
        "id": "bGs13-yzlS3B",
        "colab": {
          "base_uri": "https://localhost:8080/",
          "height": 296
        },
        "outputId": "272cf3ef-18ad-459f-f978-339ccd2b3390"
      },
      "source": [
        "\n",
        "plt.scatter([rat[0] for rat in rats], [rat[1] for rat in rats])\n",
        "plt.axvline(x=treshold, color=\"green\")\n",
        "plt.xlabel(\"ratios\")\n",
        "plt.ylabel(\"illnesses\")\n",
        "print(\"6 rats were misclassified - 4 false positive, and 2 false negative\")\n"
      ],
      "execution_count": 63,
      "outputs": [
        {
          "output_type": "stream",
          "name": "stdout",
          "text": [
            "6 rats were misclassified - 4 false positive, and 2 false negative\n"
          ]
        },
        {
          "output_type": "display_data",
          "data": {
            "text/plain": [
              "<Figure size 432x288 with 1 Axes>"
            ],
            "image/png": "[encoded data removed]"
          },
          "metadata": {
            "needs_background": "light"
          }
        }
      ]
    }
  ]
}